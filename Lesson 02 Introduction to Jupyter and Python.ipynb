{
 "cells": [
  {
   "cell_type": "markdown",
   "metadata": {
    "hide_cell": true
   },
   "source": [
    "**SA367 &#x25aa; Mathematical Models for Decision Making &#x25aa; Spring 2022 &#x25aa; Uhan**"
   ]
  },
  {
   "cell_type": "markdown",
   "metadata": {
    "hide_cell": true
   },
   "source": [
    "# Lesson 2. An Introduction to JupyterLab and Python"
   ]
  },
  {
   "cell_type": "markdown",
   "metadata": {},
   "source": [
    "## What is Jupyter?"
   ]
  },
  {
   "cell_type": "markdown",
   "metadata": {},
   "source": [
    "* __Jupyter__ is an interactive computational environment where you can combine code, text and graphs.\n",
    "\n",
    "* Until recently, Jupyter was called __IPython Notebook__. This historical tidbit might help if you're looking for other references.\n",
    "\n",
    "* We'll be using Jupyter with the __Python__ programming langugage in this course to:\n",
    "    * set up data for various models from large-scale real-world sources, and\n",
    "    * solve these models and interpret their output."
   ]
  },
  {
   "cell_type": "markdown",
   "metadata": {},
   "source": [
    "## Structure of a notebook document"
   ]
  },
  {
   "cell_type": "markdown",
   "metadata": {},
   "source": [
    "* A notebook consists of a sequence of __cells__ of different types.\n",
    "\n",
    "* We'll use these types of cells frequently:\n",
    "    * code cells\n",
    "    * Markdown cells\n",
    "    \n",
    "* You can determine the type of a cell in the toolbar.\n",
    "\n",
    "* You can run a cell by:\n",
    "    * clicking the __<i class=\"fa fa-step-forward\" aria-hidden=\"true\"></i> Run__ button in the tool bar,\n",
    "    * selecting __Cell &#8594; Run Cells__ in the menu bar,\n",
    "    * pressing <kbd>Shift</kbd>-<kbd>Enter</kbd>"
   ]
  },
  {
   "cell_type": "markdown",
   "metadata": {},
   "source": [
    "### Code cells"
   ]
  },
  {
   "cell_type": "markdown",
   "metadata": {},
   "source": [
    "* In a __code cell__, you can edit and write Python code.\n",
    "    * We'll talk about Python shortly.\n",
    "    \n",
    "* For now, we can use a code cell as a fancy calculator.\n",
    "\n",
    "* For example, in the code cell below, let's compute\n",
    "$$ \\frac{2^{5} - 368}{23 + 18} $$"
   ]
  },
  {
   "cell_type": "code",
   "execution_count": null,
   "metadata": {},
   "outputs": [],
   "source": []
  },
  {
   "cell_type": "code",
   "execution_count": 2,
   "metadata": {},
   "outputs": [
    {
     "data": {
      "text/plain": [
       "-8.195121951219512"
      ]
     },
     "execution_count": 2,
     "metadata": {},
     "output_type": "execute_result"
    }
   ],
   "source": [
    "# Solution\n",
    "(2**5 - 368) / (23 + 18)"
   ]
  },
  {
   "cell_type": "markdown",
   "metadata": {},
   "source": [
    "* Note that a code cell has \n",
    "    * an __input__ section containing your code, \n",
    "    * an __output__ section after executing the cell."
   ]
  },
  {
   "cell_type": "markdown",
   "metadata": {},
   "source": [
    "### Markdown cells"
   ]
  },
  {
   "cell_type": "markdown",
   "metadata": {},
   "source": [
    "* In a __Markdown cell__, you can enter text to write notes about your code and document your workflow.\n",
    "\n",
    "* For example, this cell is a Markdown cell.\n",
    "\n",
    "* The __Markdown__ language is a popular way to provide formatting (e.g. bold, italics, lists) to plain text. \n",
    "\n",
    "* [Here's a pretty good Markdown cheat sheet.](https://github.com/adam-p/markdown-here/wiki/Markdown-Cheatsheet)\n",
    "\n",
    "* For now, here are a few basic, useful Markdown constructs:\n",
    "\n",
    "```\n",
    "You can format text as italic with *asterisks* or _underscores_.\n",
    "\n",
    "You can format text as bold with **double asterisks** or __double underscores__.\n",
    "\n",
    "To write a bulleted list, use *, -, or + as bullets, like this:\n",
    "\n",
    "* One\n",
    "* Two\n",
    "* Three\n",
    "```\n",
    "\n",
    "* To edit a Markdown cell, double-click it. When you're done editing it, run the cell. \n",
    "\n",
    "* Try it in the cell below:"
   ]
  },
  {
   "cell_type": "markdown",
   "metadata": {},
   "source": [
    "*Double-click to edit this cell. Try out Markdown here.*"
   ]
  },
  {
   "cell_type": "markdown",
   "metadata": {},
   "source": [
    "## Manipulating cells"
   ]
  },
  {
   "cell_type": "markdown",
   "metadata": {},
   "source": [
    "* You can insert a new cell by selecting __Insert &#8594; Insert Cell Above/Below__ in the menu bar.\n",
    "\n",
    "* You can copy and paste cells using the __Edit__ menu.\n",
    "\n",
    "* You can also split, merge, move, and delete cells using the __Edit__ menu."
   ]
  },
  {
   "cell_type": "markdown",
   "metadata": {},
   "source": [
    "## Saving your notebook"
   ]
  },
  {
   "cell_type": "markdown",
   "metadata": {},
   "source": [
    "* Jupyter autosaves your notebook every few minutes.\n",
    "\n",
    "* To manually save, click the <i class=\"fa fa-floppy-o\"></i> icon, or select __File &#8594; Save and Checkpoint__.\n",
    "\n",
    "* To close the notebook, select __File &#8594; Close and Halt__.\n",
    "    - <span class=\"rred\">You should always close the notebook this way!</span>\n",
    "    - Just closing the tab/window will leave the notebook running in the background.\n",
    "    - You can get a list of running notebooks in the __Running__ tab of the Jupyter dashboard (the main Jupyter screen)."
   ]
  },
  {
   "cell_type": "markdown",
   "metadata": {},
   "source": [
    "## Moving on..."
   ]
  },
  {
   "cell_type": "markdown",
   "metadata": {},
   "source": [
    "* We'll go over some other features of Jupyter later.\n",
    "\n",
    "* [The official documentation is here.](http://jupyter-notebook.readthedocs.io/en/latest/)\n",
    "\n",
    "* There are many resources out there on using Jupyter &mdash; Google is your friend!"
   ]
  },
  {
   "cell_type": "markdown",
   "metadata": {},
   "source": [
    "---"
   ]
  },
  {
   "cell_type": "markdown",
   "metadata": {},
   "source": [
    "## What is Python &mdash; and why?"
   ]
  },
  {
   "cell_type": "markdown",
   "metadata": {},
   "source": [
    "![https://xkcd.com/353/](img/python.png)"
   ]
  },
  {
   "cell_type": "markdown",
   "metadata": {},
   "source": [
    "* __Python__ is a <span class=\"rred\">free</span>, open-source, general-purpose programming language.\n",
    "\n",
    "* Python is popular and used everywhere &mdash; a few examples:\n",
    "    - [Automation, monitoring, data science, and more at Netflix](https://medium.com/netflix-techblog/python-at-netflix-86b6028b3b3e)\n",
    "    - [Special effects at Industrial Light and Magic](https://www.davincicoders.com/codingblog/2017/2/10/love-movies-learn-to-code-python-and-you-might-work-for-ilm)\n",
    "    - [Analysis of historical texts](https://digitalorientalist.com/2019/07/01/making-a-basic-textual-analysis-program-in-python/)\n",
    "\n",
    "* Python is \"beautiful\": its syntax was designed with an emphasis on readability.\n",
    "\n",
    "* Python has become the language of choice for data science and machine learning.\n",
    "\n",
    "* \"It's good for you\": having exposure to multiple programming languages will be very useful to you as a {data scientist, economist, operations researcher, quantitative analyst, statistician, etc}."
   ]
  },
  {
   "cell_type": "markdown",
   "metadata": {},
   "source": [
    "## A survival course in Python"
   ]
  },
  {
   "cell_type": "markdown",
   "metadata": {},
   "source": [
    "* In this lesson, we will learn some basic Python concepts that will be useful in this course.\n",
    "\n",
    "* We will cover other concepts throughout the semester as needed.\n",
    "    \n",
    "* There is a wealth of information on Python on the web!\n",
    "\n",
    "* [Here is the documentation for Python 3](https://docs.python.org/3/)."
   ]
  },
  {
   "cell_type": "markdown",
   "metadata": {},
   "source": [
    "## Fancy calculator"
   ]
  },
  {
   "cell_type": "markdown",
   "metadata": {},
   "source": [
    "* You can define a variable using the `=` sign.\n",
    "\n",
    "* You can perform arithmetic operations on variables.\n",
    "\n",
    "* You can print the value of a variable using the `print()` function.\n",
    "\n",
    "* Don't forget to run the cell when you're done!"
   ]
  },
  {
   "cell_type": "code",
   "execution_count": null,
   "metadata": {},
   "outputs": [],
   "source": [
    "# This is what a comment looks like in Python\n",
    "# Define dimensions of a rectangle\n",
    "\n",
    "# Compute area\n",
    "\n",
    "# Print area\n"
   ]
  },
  {
   "cell_type": "code",
   "execution_count": 3,
   "metadata": {},
   "outputs": [
    {
     "name": "stdout",
     "output_type": "stream",
     "text": [
      "1200\n"
     ]
    }
   ],
   "source": [
    "# Solution\n",
    "# This is what a comment looks like in Python\n",
    "# Define dimensions of a rectangle\n",
    "length = 30\n",
    "width = 40\n",
    "\n",
    "# Compute area\n",
    "area = length * width\n",
    "\n",
    "# Print area\n",
    "print(area)"
   ]
  },
  {
   "cell_type": "markdown",
   "metadata": {},
   "source": [
    "* If you try to access a variable you haven't yet defined, Python will complain."
   ]
  },
  {
   "cell_type": "code",
   "execution_count": 4,
   "metadata": {},
   "outputs": [
    {
     "ename": "NameError",
     "evalue": "name 'volume' is not defined",
     "output_type": "error",
     "traceback": [
      "\u001b[0;31m---------------------------------------------------------------------------\u001b[0m",
      "\u001b[0;31mNameError\u001b[0m                                 Traceback (most recent call last)",
      "\u001b[0;32m<ipython-input-4-14ae0d839e78>\u001b[0m in \u001b[0;36m<module>\u001b[0;34m\u001b[0m\n\u001b[0;32m----> 1\u001b[0;31m \u001b[0mprint\u001b[0m\u001b[0;34m(\u001b[0m\u001b[0mvolume\u001b[0m\u001b[0;34m)\u001b[0m\u001b[0;34m\u001b[0m\u001b[0;34m\u001b[0m\u001b[0m\n\u001b[0m",
      "\u001b[0;31mNameError\u001b[0m: name 'volume' is not defined"
     ]
    }
   ],
   "source": [
    "print(volume)"
   ]
  },
  {
   "cell_type": "markdown",
   "metadata": {},
   "source": [
    "* Let's define the height of a box, so we can compute volume."
   ]
  },
  {
   "cell_type": "code",
   "execution_count": null,
   "metadata": {},
   "outputs": [],
   "source": [
    "# Define height of box\n",
    "\n",
    "# Compute volume\n",
    "\n",
    "# Print volume\n"
   ]
  },
  {
   "cell_type": "code",
   "execution_count": 5,
   "metadata": {
    "run_control": {
     "marked": false
    }
   },
   "outputs": [
    {
     "name": "stdout",
     "output_type": "stream",
     "text": [
      "12000\n"
     ]
    }
   ],
   "source": [
    "# Solution\n",
    "# Define height of box\n",
    "height = 10\n",
    "\n",
    "# Compute volume\n",
    "volume = length * width * height\n",
    "\n",
    "# Print volume\n",
    "print(volume)"
   ]
  },
  {
   "cell_type": "markdown",
   "metadata": {},
   "source": [
    "* Note that the __prompt numbers__ next to the code cells (e.g. `In [3]` and `Out [3]`) indicate which cells have been run and <span class=\"rred\">in which order</span>. \n",
    "\n",
    "* This is very useful, especially if you are running cells out-of-sequence."
   ]
  },
  {
   "cell_type": "markdown",
   "metadata": {},
   "source": [
    "## Hello, world!"
   ]
  },
  {
   "cell_type": "markdown",
   "metadata": {},
   "source": [
    "* __Strings__ are lists of printable characters defined using either double quotes or single quotes.\n",
    "\n",
    "* Just like with variables, to print a string, you can use the `print()` function."
   ]
  },
  {
   "cell_type": "code",
   "execution_count": null,
   "metadata": {},
   "outputs": [],
   "source": [
    "# Print \"Hello, world!\"\n"
   ]
  },
  {
   "cell_type": "code",
   "execution_count": 6,
   "metadata": {},
   "outputs": [
    {
     "name": "stdout",
     "output_type": "stream",
     "text": [
      "Hello, world!\n"
     ]
    }
   ],
   "source": [
    "# Solution\n",
    "# Print \"Hello, world!\"\n",
    "print(\"Hello, world!\")"
   ]
  },
  {
   "cell_type": "markdown",
   "metadata": {},
   "source": [
    "- You can use insert the value of a variable into a string like this:"
   ]
  },
  {
   "cell_type": "code",
   "execution_count": null,
   "metadata": {},
   "outputs": [],
   "source": [
    "# Define a variable for your neighbor's name\n",
    "\n",
    "# Print the value of the 'neighbor' variable\n"
   ]
  },
  {
   "cell_type": "code",
   "execution_count": 7,
   "metadata": {},
   "outputs": [
    {
     "name": "stdout",
     "output_type": "stream",
     "text": [
      "My neighbor is Nelson.\n"
     ]
    }
   ],
   "source": [
    "# Solution\n",
    "# Define a variable for your neighbor's name\n",
    "neighbor = 'Nelson'\n",
    "\n",
    "# Print the value of the 'neighbor' variable\n",
    "print(f'My neighbor is {neighbor}.')"
   ]
  },
  {
   "cell_type": "markdown",
   "metadata": {},
   "source": [
    "* To insert a variable's value into a string:\n",
    "    - place the letter `f` immediately before the opening quotation mark,\n",
    "    - put braces around the names of any variables you want to use inside the string.\n",
    "    \n",
    "* These strings are called __f-strings__."
   ]
  },
  {
   "cell_type": "markdown",
   "metadata": {},
   "source": [
    "__Example.__ Define three variables, `left`, `right`, `me`, containing the names of your neighbors and yourself. Use the `print()` function to print the values of these variables in one line."
   ]
  },
  {
   "cell_type": "code",
   "execution_count": null,
   "metadata": {},
   "outputs": [],
   "source": []
  },
  {
   "cell_type": "code",
   "execution_count": 8,
   "metadata": {},
   "outputs": [
    {
     "name": "stdout",
     "output_type": "stream",
     "text": [
      "I'm Nelson, my neighbor to the left is Alice, and my neighbor to the right is Carol.\n"
     ]
    }
   ],
   "source": [
    "# Solution\n",
    "# Define variables\n",
    "left = 'Alice'\n",
    "right = 'Carol'\n",
    "me = 'Nelson'\n",
    "\n",
    "# Print values of variables\n",
    "print(f\"I'm {me}, my neighbor to the left is {left}, and my neighbor to the right is {right}.\")"
   ]
  },
  {
   "cell_type": "markdown",
   "metadata": {},
   "source": [
    "## Lists"
   ]
  },
  {
   "cell_type": "markdown",
   "metadata": {},
   "source": [
    "* A __list__ is a collection of items that are organized in a particular order.\n",
    "\n",
    "* You can think of a list as an array or a vector.\n",
    "\n",
    "* A list is written as a sequence of comma-separated items between square brackets."
   ]
  },
  {
   "cell_type": "code",
   "execution_count": null,
   "metadata": {},
   "outputs": [],
   "source": [
    "# Define a list containing the first 5 square numbers\n",
    "\n",
    "# Define a list containing the days of the week\n"
   ]
  },
  {
   "cell_type": "code",
   "execution_count": 9,
   "metadata": {},
   "outputs": [],
   "source": [
    "# Solution\n",
    "# Define a list containing the first 5 square numbers\n",
    "squares = [0, 1, 4, 9, 16]\n",
    "\n",
    "# Define a list containing the days of the week\n",
    "days_of_the_week = [\"Sun\", \"Mon\", \"Tue\", \"Wed\", \"Thu\", \"Fri\", \"Sat\"]"
   ]
  },
  {
   "cell_type": "markdown",
   "metadata": {},
   "source": [
    "* To get the first item in `days_of_the_week`, we would write\n",
    "\n",
    "```python\n",
    "days_of_the_week[0]\n",
    "```\n",
    "\n",
    "* __In Python, indexing (that is, counting) starts at 0!__"
   ]
  },
  {
   "cell_type": "code",
   "execution_count": null,
   "metadata": {},
   "outputs": [],
   "source": [
    "# The third day of the week is...\n"
   ]
  },
  {
   "cell_type": "code",
   "execution_count": 10,
   "metadata": {
    "scrolled": true
   },
   "outputs": [
    {
     "name": "stdout",
     "output_type": "stream",
     "text": [
      "Tue\n"
     ]
    }
   ],
   "source": [
    "# Solution\n",
    "# The third day of the week is...\n",
    "print(days_of_the_week[2])"
   ]
  },
  {
   "cell_type": "markdown",
   "metadata": {},
   "source": [
    "* You can add items to the end of a list using the `.append()` method.\n",
    "\n",
    "* You can also print lists just like any other variable."
   ]
  },
  {
   "cell_type": "code",
   "execution_count": null,
   "metadata": {},
   "outputs": [],
   "source": [
    "# Let's add the 6th squared number\n",
    "\n",
    "# What does the list look like now?\n",
    "print(f\"squares = {squares}\")"
   ]
  },
  {
   "cell_type": "code",
   "execution_count": 11,
   "metadata": {},
   "outputs": [
    {
     "name": "stdout",
     "output_type": "stream",
     "text": [
      "squares = [0, 1, 4, 9, 16, 25]\n"
     ]
    }
   ],
   "source": [
    "# Solution\n",
    "# Let's add the 6th squared number\n",
    "squares.append(25)\n",
    "\n",
    "# What does the list look like now?\n",
    "print(f\"squares = {squares}\")"
   ]
  },
  {
   "cell_type": "markdown",
   "metadata": {},
   "source": [
    "* We can determine the length of a list using the `len()` function."
   ]
  },
  {
   "cell_type": "code",
   "execution_count": null,
   "metadata": {},
   "outputs": [],
   "source": [
    "# How many days of the week are there?\n"
   ]
  },
  {
   "cell_type": "code",
   "execution_count": 12,
   "metadata": {},
   "outputs": [
    {
     "data": {
      "text/plain": [
       "7"
      ]
     },
     "execution_count": 12,
     "metadata": {},
     "output_type": "execute_result"
    }
   ],
   "source": [
    "# Solution\n",
    "# How many days of the week are there?\n",
    "len(days_of_the_week)"
   ]
  },
  {
   "cell_type": "markdown",
   "metadata": {},
   "source": [
    "## Dictionaries"
   ]
  },
  {
   "cell_type": "markdown",
   "metadata": {},
   "source": [
    "* A __dictionary__ is another way to organize a collection of items.\n",
    "\n",
    "* A dictionary maps __keys__ to __values__.\n",
    "    - Just like a real-world dictionary maps <span class=\"rred\">words</span> to <span class=\"rred\">definitions</span>.\n",
    "    \n",
    "* We can create a dictionary by starting with an empty dictionary and adding key-value pairs.\n",
    "\n",
    "* You can also print dictionaries just like any other variable."
   ]
  },
  {
   "cell_type": "code",
   "execution_count": null,
   "metadata": {},
   "outputs": [],
   "source": [
    "# Create empty dictionary\n",
    "\n",
    "# Add key-value pairs\n",
    "\n",
    "# Print the dictionary\n"
   ]
  },
  {
   "cell_type": "code",
   "execution_count": 13,
   "metadata": {},
   "outputs": [
    {
     "name": "stdout",
     "output_type": "stream",
     "text": [
      "{'First Name': 'Nelson', 'Last Name': 'Uhan', 'Company': 0}\n"
     ]
    }
   ],
   "source": [
    "# Solution\n",
    "# Create empty dictionary\n",
    "mid = {}\n",
    "\n",
    "# Add key-value pairs\n",
    "mid[\"First Name\"] = \"Nelson\"\n",
    "mid[\"Last Name\"] = \"Uhan\"\n",
    "mid[\"Company\"] = 0\n",
    "\n",
    "# Print the dictionary\n",
    "print(mid)"
   ]
  },
  {
   "cell_type": "markdown",
   "metadata": {},
   "source": [
    "* Similar to a list, we can use a key to look up the corresponding value in a dictionary as follows:"
   ]
  },
  {
   "cell_type": "code",
   "execution_count": null,
   "metadata": {},
   "outputs": [],
   "source": [
    "# The last name of this mid is...\n"
   ]
  },
  {
   "cell_type": "code",
   "execution_count": 14,
   "metadata": {},
   "outputs": [
    {
     "name": "stdout",
     "output_type": "stream",
     "text": [
      "Uhan\n"
     ]
    }
   ],
   "source": [
    "# Solution\n",
    "# The last name of this mid is...\n",
    "print(mid[\"Last Name\"])"
   ]
  },
  {
   "cell_type": "markdown",
   "metadata": {},
   "source": [
    "## Loops and nesting"
   ]
  },
  {
   "cell_type": "markdown",
   "metadata": {},
   "source": [
    "* We can iterate through lists using the `for` statement."
   ]
  },
  {
   "cell_type": "code",
   "execution_count": null,
   "metadata": {},
   "outputs": [],
   "source": [
    "# Define a list containing the months of the year\n",
    "months_of_the_year = [\"Jan\", \"Feb\", \"Mar\", \"Apr\", \"May\", \"Jun\", \"Jul\", \"Aug\", \"Sep\", \"Nov\", \"Dec\"]\n",
    "\n",
    "# Print the months of the year, one by one\n"
   ]
  },
  {
   "cell_type": "code",
   "execution_count": 15,
   "metadata": {},
   "outputs": [
    {
     "name": "stdout",
     "output_type": "stream",
     "text": [
      "Jan\n",
      "Feb\n",
      "Mar\n",
      "Apr\n",
      "May\n",
      "Jun\n",
      "Jul\n",
      "Aug\n",
      "Sep\n",
      "Nov\n",
      "Dec\n"
     ]
    }
   ],
   "source": [
    "# Solution\n",
    "# Define a list containing the months of the year\n",
    "months_of_the_year = [\"Jan\", \"Feb\", \"Mar\", \"Apr\", \"May\", \"Jun\", \"Jul\", \"Aug\", \"Sep\", \"Nov\", \"Dec\"]\n",
    "\n",
    "# Print the months of the year, one by one\n",
    "for month in months_of_the_year:\n",
    "    print(month)"
   ]
  },
  {
   "cell_type": "markdown",
   "metadata": {},
   "source": [
    "* Python defines blocks of code using a __colon ( : )__ followed by __indentation__.\n",
    "\n",
    "* The above code is NOT the same as\n",
    "```python\n",
    "for month in months_of_the_year:\n",
    "print(month)\n",
    "```\n",
    "\n",
    "* Always use the __Tab__ key to indent &ndash; this will keep your indentation consistent."
   ]
  },
  {
   "cell_type": "markdown",
   "metadata": {},
   "source": [
    "* Often we will want to write a for loop over consecutive integers. We can do this using the `range()` function.\n",
    "\n",
    "* `range(n)` is equivalent to to the list `[0, 1, ..., n - 1]`\n",
    "\n",
    "* `range(start, stop)` is equivalent to the list `[start, start + 1, ..., stop - 1]`"
   ]
  },
  {
   "cell_type": "code",
   "execution_count": null,
   "metadata": {},
   "outputs": [],
   "source": [
    "# First 10 integers, starting at 0\n"
   ]
  },
  {
   "cell_type": "code",
   "execution_count": 16,
   "metadata": {},
   "outputs": [
    {
     "name": "stdout",
     "output_type": "stream",
     "text": [
      "0\n",
      "1\n",
      "2\n",
      "3\n",
      "4\n",
      "5\n",
      "6\n",
      "7\n",
      "8\n",
      "9\n"
     ]
    }
   ],
   "source": [
    "# Solution\n",
    "# First 10 integers, starting at 0\n",
    "for i in range(10):\n",
    "    print(i)"
   ]
  },
  {
   "cell_type": "code",
   "execution_count": null,
   "metadata": {},
   "outputs": [],
   "source": [
    "# Integers between 3 and 8 inclusive\n"
   ]
  },
  {
   "cell_type": "code",
   "execution_count": 17,
   "metadata": {},
   "outputs": [
    {
     "name": "stdout",
     "output_type": "stream",
     "text": [
      "3\n",
      "4\n",
      "5\n",
      "6\n",
      "7\n",
      "8\n"
     ]
    }
   ],
   "source": [
    "# Solution\n",
    "# Integers between 3 and 8 inclusive\n",
    "for i in range(3, 9):\n",
    "    print(i)"
   ]
  },
  {
   "cell_type": "markdown",
   "metadata": {},
   "source": [
    "* *Technically*, `range(n)` and `range(start, stop)` aren't really lists. But it's OK to think of them as lists for now."
   ]
  },
  {
   "cell_type": "markdown",
   "metadata": {},
   "source": [
    "__Example.__ Write code to create a list of the first 10 cubic numbers, starting with $0^3$. Print the list.\n",
    "\n",
    "*Hint*. Start by creating an empty list:\n",
    "\n",
    "```python\n",
    "cubics = []\n",
    "```\n",
    "\n",
    "Then *append* to this list using a `for` loop."
   ]
  },
  {
   "cell_type": "code",
   "execution_count": null,
   "metadata": {},
   "outputs": [],
   "source": []
  },
  {
   "cell_type": "code",
   "execution_count": 18,
   "metadata": {},
   "outputs": [
    {
     "name": "stdout",
     "output_type": "stream",
     "text": [
      "[0, 1, 8, 27, 64, 125, 216, 343, 512, 729]\n"
     ]
    }
   ],
   "source": [
    "# Solution\n",
    "cubics = []\n",
    "for i in range(10):\n",
    "    cubics.append(i**3)\n",
    "\n",
    "print(cubics)"
   ]
  },
  {
   "cell_type": "markdown",
   "metadata": {},
   "source": [
    "## If this, then that"
   ]
  },
  {
   "cell_type": "markdown",
   "metadata": {},
   "source": [
    "* The `==` operator performs __equality testing__: \n",
    "    - If the two items on either side of `==` are equal, then it returns `True`.\n",
    "    - Otherwise, it returns `False`."
   ]
  },
  {
   "cell_type": "code",
   "execution_count": null,
   "metadata": {},
   "outputs": [],
   "source": [
    "# Let's define today to be Tuesday\n"
   ]
  },
  {
   "cell_type": "code",
   "execution_count": 19,
   "metadata": {},
   "outputs": [],
   "source": [
    "# Solution\n",
    "# Let's define today to be Tuesday\n",
    "today = \"Tuesday\""
   ]
  },
  {
   "cell_type": "code",
   "execution_count": null,
   "metadata": {},
   "outputs": [],
   "source": [
    "# Is today Thursday?\n"
   ]
  },
  {
   "cell_type": "code",
   "execution_count": 20,
   "metadata": {
    "scrolled": true
   },
   "outputs": [
    {
     "data": {
      "text/plain": [
       "True"
      ]
     },
     "execution_count": 20,
     "metadata": {},
     "output_type": "execute_result"
    }
   ],
   "source": [
    "# Solution\n",
    "# Is today Thursday?\n",
    "print(today == \"Tuesday\")"
   ]
  },
  {
   "cell_type": "code",
   "execution_count": null,
   "metadata": {},
   "outputs": [],
   "source": [
    "# Is today Friday?\n"
   ]
  },
  {
   "cell_type": "code",
   "execution_count": 21,
   "metadata": {},
   "outputs": [
    {
     "data": {
      "text/plain": [
       "False"
      ]
     },
     "execution_count": 21,
     "metadata": {},
     "output_type": "execute_result"
    }
   ],
   "source": [
    "# Solution\n",
    "# Is today Friday?\n",
    "print(today == \"Friday\")"
   ]
  },
  {
   "cell_type": "markdown",
   "metadata": {},
   "source": [
    "* Conditional statements are written using the same block/indentation structure as `for` statements, using the keywords `if`, `elif`, and `else`."
   ]
  },
  {
   "cell_type": "code",
   "execution_count": null,
   "metadata": {},
   "outputs": [],
   "source": [
    "# Today is...\n",
    "\n",
    "# What should I do?\n"
   ]
  },
  {
   "cell_type": "code",
   "execution_count": 22,
   "metadata": {},
   "outputs": [
    {
     "name": "stdout",
     "output_type": "stream",
     "text": [
      "Have fun.\n"
     ]
    }
   ],
   "source": [
    "# Solution\n",
    "# Today is...\n",
    "today = \"Saturday\"\n",
    "\n",
    "# What should I do?\n",
    "if today == \"Friday\":\n",
    "    print(\"Go out.\")\n",
    "elif today == \"Saturday\":\n",
    "    print(\"Have fun.\")\n",
    "else:\n",
    "    print(\"Study.\")"
   ]
  },
  {
   "cell_type": "markdown",
   "metadata": {},
   "source": [
    "* Other types of comparisons:\n",
    "\n",
    "| Comparison | Meaning |\n",
    "| :----------- | :-------- |\n",
    "| `==`         | equal  |\n",
    "| `!=`         | not equal |\n",
    "| `<`          | less than  |\n",
    "| `>`          | greater than |\n",
    "| `<=`         | less than or equal |\n",
    "| `>=`         | greater than or equal |"
   ]
  },
  {
   "cell_type": "markdown",
   "metadata": {},
   "source": [
    "__Example.__ Using `if`-`elif`-`else` statements, write code to only print the first 10 cubic numbers ($0^3$, $1^3$, $2^3$, $3^3$, ...) that are greater than 100. Your output should look something like this:\n",
    "\n",
    "```\n",
    "    The cube of 5 is 125.\n",
    "    The cube of 6 is 216.\n",
    "```\n",
    "\n",
    "and so on."
   ]
  },
  {
   "cell_type": "code",
   "execution_count": null,
   "metadata": {},
   "outputs": [],
   "source": []
  },
  {
   "cell_type": "code",
   "execution_count": 23,
   "metadata": {},
   "outputs": [
    {
     "name": "stdout",
     "output_type": "stream",
     "text": [
      "The cube of 5 is 125.\n",
      "The cube of 6 is 216.\n",
      "The cube of 7 is 343.\n",
      "The cube of 8 is 512.\n",
      "The cube of 9 is 729.\n"
     ]
    }
   ],
   "source": [
    "# Solution\n",
    "for i in range(10):\n",
    "    if i ** 3 > 100:\n",
    "        print(f\"The cube of {i} is {i**3}.\")"
   ]
  },
  {
   "cell_type": "markdown",
   "metadata": {},
   "source": [
    "## Advanced Jupyter features that might be useful"
   ]
  },
  {
   "cell_type": "markdown",
   "metadata": {},
   "source": [
    "### Keyboard shortcuts"
   ]
  },
  {
   "cell_type": "markdown",
   "metadata": {},
   "source": [
    "* There are keyboard shortcuts, but they can be a little tricky to use. Take a look at __Help &#8594; Keyboard Shortcuts__.\n",
    "\n",
    "* If you click in the text box of a code cell or double-click in a Markdown cell, then it is outlined by a green box. This is called __Edit Mode__.\n",
    "\n",
    "* If you click on the <span class=\"rred\">side</span> of a code cell, then it is outlined by a blue box. This is called __Command Mode__.\n",
    "\n",
    "* Here are two really useful keyboard shortcuts:\n",
    "    * __Indenting multiple lines.__ In Edit Mode, highlight the lines you want to indent, and then press <kbd>Tab</kbd>. If you want to de-indent them (i.e. indent them to the left), press <kbd>Shift-Tab</kbd>.\n",
    "    * __Line numbers.__ In Command Mode, press <kbd>L</kbd> to show/hide line numbers in the cell."
   ]
  },
  {
   "cell_type": "code",
   "execution_count": 24,
   "metadata": {},
   "outputs": [
    {
     "name": "stdout",
     "output_type": "stream",
     "text": [
      "The name of this student is Amy.\n",
      "The name of this student is Bob.\n",
      "The name of this student is Carol.\n",
      "The Spanish word for home is casa.\n",
      "The Spanish word for navy is armada.\n"
     ]
    }
   ],
   "source": [
    "# Try turning on and turning off line numbers in this cell.\n",
    "# Play around with indenting and de-indenting code.\n",
    "# Read the code in this cell. Make sure you understand what it does!\n",
    "student_names = [\"Amy\", \"Bob\", \"Carol\"]\n",
    "for name in student_names:\n",
    "    print(f\"The name of this student is {name}.\")\n",
    "\n",
    "english_words = [\"home\", \"navy\"]\n",
    "spanish = {}\n",
    "spanish[\"home\"] = \"casa\"\n",
    "spanish[\"navy\"] = \"armada\"\n",
    "\n",
    "for word in english_words:\n",
    "    print(f\"The Spanish word for {word} is {spanish[word]}.\")"
   ]
  },
  {
   "cell_type": "markdown",
   "metadata": {},
   "source": [
    "### Running multiple cells"
   ]
  },
  {
   "cell_type": "markdown",
   "metadata": {},
   "source": [
    "* You can run all the cells in a notebook by selecting __Cell &#8594; Run All__.\n",
    "\n",
    "* You can run all the cells above/below the current cell by selecting __Cell &#8594; Run All Above/Below__."
   ]
  },
  {
   "cell_type": "markdown",
   "metadata": {},
   "source": [
    "### Clearing the output of code cells"
   ]
  },
  {
   "cell_type": "markdown",
   "metadata": {},
   "source": [
    "* You can clear the output of a code cell by selecting __Cell &#8594; Current Output &#8594; Clear__. \n",
    "\n",
    "* You can clear the output of all code cells by selecting __Cell &#8594; All Output &#8594; Clear__."
   ]
  },
  {
   "cell_type": "markdown",
   "metadata": {},
   "source": [
    "---"
   ]
  },
  {
   "cell_type": "markdown",
   "metadata": {},
   "source": [
    "## Problems"
   ]
  },
  {
   "cell_type": "markdown",
   "metadata": {},
   "source": [
    "### Problem 1 (Building lists)"
   ]
  },
  {
   "cell_type": "markdown",
   "metadata": {},
   "source": [
    "The goal of this problem is to give you practice with building lists.\n",
    "\n",
    "Recall that $x$ degrees Celsius is\n",
    "\n",
    "$$\\frac{9}{5} x + 32$$\n",
    "\n",
    "degrees Fahrenheit. Using a `for` loop, create a list with the temperatures in degrees Celsius given below, converted to degrees Fahrenheit. Print the list of converted temperatures."
   ]
  },
  {
   "cell_type": "code",
   "execution_count": null,
   "metadata": {},
   "outputs": [],
   "source": [
    "# List of temperatures to convert\n",
    "celsius = [39.2, 33.3, 36.5, 31.6, 37.3, 37.8, 42.1, 28.6]\n"
   ]
  },
  {
   "cell_type": "code",
   "execution_count": 25,
   "metadata": {},
   "outputs": [
    {
     "name": "stdout",
     "output_type": "stream",
     "text": [
      "Temperatures in deg F = [102.56, 91.94, 97.7, 88.88, 99.14, 100.03999999999999, 107.78, 83.48]\n"
     ]
    }
   ],
   "source": [
    "# Solution\n",
    "# List of temperatures to convert\n",
    "celsius = [39.2, 33.3, 36.5, 31.6, 37.3, 37.8, 42.1, 28.6]\n",
    "\n",
    "# List of temperatures in Fahrenheit\n",
    "fahrenheit = []\n",
    "for temp in celsius:\n",
    "    fahrenheit.append((9/5)*temp + 32)\n",
    "    \n",
    "# Print the list of temperatures in Fahrenheit\n",
    "print(f\"Temperatures in deg F = {fahrenheit}\")"
   ]
  },
  {
   "cell_type": "markdown",
   "metadata": {},
   "source": [
    "### Problem 2  (List methods, reading and using documentation)"
   ]
  },
  {
   "cell_type": "markdown",
   "metadata": {},
   "source": [
    "The goal of this problem is to introduce you to different list methods, and to give you some practice with reading and using documentation.\n",
    "\n",
    "Read the Python documentation on list methods found in Section 5.1 [here](https://docs.python.org/3.7/tutorial/datastructures.html). Use these methods to do the following with the list of student names given below.\n",
    "\n",
    "* Find the index of first student named Zelda in the list.\n",
    "* Insert your name in the 3rd position of the list. Print the list to check your work.\n",
    "* Sort the list in alphabetical order. Print the list to check your work.\n",
    "* Find how many students named Junior are in the list.\n",
    "* Remove Leo from the list. Print the list to check your work."
   ]
  },
  {
   "cell_type": "code",
   "execution_count": null,
   "metadata": {},
   "outputs": [],
   "source": [
    "# List of student names, generated courtesy of http://listofrandomnames.com\n",
    "students = [\"Sterling\", \"Malika\", \"Junior\", \"Shiloh\", \"Zelda\", \"Helene\", \"Leo\", \"Junior\", \"Jacinto\", \"Craig\"]\n"
   ]
  },
  {
   "cell_type": "code",
   "execution_count": 26,
   "metadata": {},
   "outputs": [],
   "source": [
    "# Solution\n",
    "# List of student names, generated courtesy of http://listofrandomnames.com\n",
    "students = [\"Sterling\", \"Malika\", \"Junior\", \"Shiloh\", \"Zelda\", \"Helene\", \"Leo\", \"Junior\", \"Jacinto\", \"Craig\"]"
   ]
  },
  {
   "cell_type": "code",
   "execution_count": 27,
   "metadata": {},
   "outputs": [
    {
     "data": {
      "text/plain": [
       "4"
      ]
     },
     "execution_count": 27,
     "metadata": {},
     "output_type": "execute_result"
    }
   ],
   "source": [
    "# Solution\n",
    "# Find the index of first student named Zelda in the list\n",
    "students.index(\"Zelda\")"
   ]
  },
  {
   "cell_type": "code",
   "execution_count": 28,
   "metadata": {},
   "outputs": [
    {
     "name": "stdout",
     "output_type": "stream",
     "text": [
      "['Sterling', 'Malika', 'Nelson', 'Junior', 'Shiloh', 'Zelda', 'Helene', 'Leo', 'Junior', 'Jacinto', 'Craig']\n"
     ]
    }
   ],
   "source": [
    "# Solution\n",
    "# Insert your name in the 3rd position of the list\n",
    "students.insert(2, \"Nelson\")\n",
    "print(students)"
   ]
  },
  {
   "cell_type": "code",
   "execution_count": 29,
   "metadata": {},
   "outputs": [
    {
     "name": "stdout",
     "output_type": "stream",
     "text": [
      "['Craig', 'Helene', 'Jacinto', 'Junior', 'Junior', 'Leo', 'Malika', 'Nelson', 'Shiloh', 'Sterling', 'Zelda']\n"
     ]
    }
   ],
   "source": [
    "# Solution\n",
    "# Sort the list in alphabetical order\n",
    "students.sort()\n",
    "print(students)"
   ]
  },
  {
   "cell_type": "code",
   "execution_count": 30,
   "metadata": {},
   "outputs": [
    {
     "data": {
      "text/plain": [
       "2"
      ]
     },
     "execution_count": 30,
     "metadata": {},
     "output_type": "execute_result"
    }
   ],
   "source": [
    "# Solution\n",
    "# Find how many students named Junior are in the list\n",
    "students.count(\"Junior\")"
   ]
  },
  {
   "cell_type": "code",
   "execution_count": 31,
   "metadata": {},
   "outputs": [
    {
     "name": "stdout",
     "output_type": "stream",
     "text": [
      "['Craig', 'Helene', 'Jacinto', 'Junior', 'Junior', 'Malika', 'Nelson', 'Shiloh', 'Sterling', 'Zelda']\n"
     ]
    }
   ],
   "source": [
    "# Solution\n",
    "# Remove Leo from the list\n",
    "students.remove(\"Leo\")\n",
    "print(students)"
   ]
  },
  {
   "cell_type": "markdown",
   "metadata": {},
   "source": [
    "### Problem 3 (Working with dictionaries)"
   ]
  },
  {
   "cell_type": "markdown",
   "metadata": {},
   "source": [
    "The goal of this problem is to introduce you to a few more ways to work with dictionaries.\n",
    "\n",
    "In class, we built a dictionary by starting with an empty dictionary and adding key-value pairs. We can also define a dictionary with initial key-value pairs like this:"
   ]
  },
  {
   "cell_type": "code",
   "execution_count": 32,
   "metadata": {},
   "outputs": [],
   "source": [
    "# Initial dictionary of state capitals\n",
    "capital = {\"CA\": \"Sacramento\", \"MI\": \"Lansing\", \"FL\": \"Tallahassee\"}"
   ]
  },
  {
   "cell_type": "markdown",
   "metadata": {},
   "source": [
    "Print the value of `capitals[\"MI\"]` in the cell below - it should give you the capital of Michigan."
   ]
  },
  {
   "cell_type": "code",
   "execution_count": 33,
   "metadata": {},
   "outputs": [
    {
     "name": "stdout",
     "output_type": "stream",
     "text": [
      "Lansing\n"
     ]
    }
   ],
   "source": [
    "# Print the capital of MI\n",
    "print(capital[\"MI\"])"
   ]
  },
  {
   "cell_type": "markdown",
   "metadata": {},
   "source": [
    "See how that works?\n",
    "\n",
    "Add the state capitals of Maryland, Ohio, and Texas to this dictionary. Don't forget the quotation marks!"
   ]
  },
  {
   "cell_type": "code",
   "execution_count": null,
   "metadata": {},
   "outputs": [],
   "source": [
    "# Add the state capitals of MD, OH, TX\n"
   ]
  },
  {
   "cell_type": "code",
   "execution_count": 34,
   "metadata": {},
   "outputs": [],
   "source": [
    "# Solution\n",
    "# Add the state capitals of MD, OH, TX\n",
    "capital[\"MD\"] = \"Annapolis\"\n",
    "capital[\"OH\"] = \"Columbus\"\n",
    "capital[\"TX\"] = \"Austin\""
   ]
  },
  {
   "cell_type": "markdown",
   "metadata": {},
   "source": [
    "We can loop through the key-value pairs of a dictionary using the `.items()` method.\n",
    "\n",
    "For example, `capital.items()` is a list of the key-value pairs in the dictionary `capital`. So, we can loop through the key-value pairs like this:"
   ]
  },
  {
   "cell_type": "code",
   "execution_count": 35,
   "metadata": {},
   "outputs": [
    {
     "name": "stdout",
     "output_type": "stream",
     "text": [
      "The capital of CA is Sacramento.\n",
      "The capital of MI is Lansing.\n",
      "The capital of FL is Tallahassee.\n",
      "The capital of MD is Annapolis.\n",
      "The capital of OH is Columbus.\n",
      "The capital of TX is Austin.\n"
     ]
    }
   ],
   "source": [
    "# Loop through all the key-value pairs of the capital dictionary\n",
    "for state, city in capital.items():\n",
    "    print(f\"The capital of {state} is {city}.\")"
   ]
  },
  {
   "cell_type": "markdown",
   "metadata": {},
   "source": [
    "Use a `for` loop with the `.items()` method to print a statement about each key-value pair in the dictionary of state abbreviations defined below."
   ]
  },
  {
   "cell_type": "code",
   "execution_count": null,
   "metadata": {},
   "outputs": [],
   "source": [
    "# Dictionary of state abbreviations\n",
    "abbreviation = {\"Oregon\": \"OR\", \"Florida\": \"FL\", \"California\": \"CA\", \"New York\": \"NY\", \"Michigan\": \"MI\"}\n",
    "\n",
    "# Print a statement about each key-value pair in the dictionary of state abbreviations\n"
   ]
  },
  {
   "cell_type": "code",
   "execution_count": 36,
   "metadata": {},
   "outputs": [
    {
     "name": "stdout",
     "output_type": "stream",
     "text": [
      "The abbreviation for Oregon is OR.\n",
      "The abbreviation for Florida is FL.\n",
      "The abbreviation for California is CA.\n",
      "The abbreviation for New York is NY.\n",
      "The abbreviation for Michigan is MI.\n"
     ]
    }
   ],
   "source": [
    "# Solution\n",
    "# Dictionary of state abbreviations\n",
    "abbreviation = {\"Oregon\": \"OR\", \"Florida\": \"FL\", \"California\": \"CA\", \"New York\": \"NY\", \"Michigan\": \"MI\"}\n",
    "\n",
    "# Print a statement about each key-value pair in the dictionary of state abbreviations\n",
    "for state, abbrev in abbreviation.items():\n",
    "    print(f\"The abbreviation for {state} is {abbrev}.\")"
   ]
  }
 ],
 "metadata": {
  "kernelspec": {
   "display_name": "Python 3",
   "language": "python",
   "name": "python3"
  },
  "language_info": {
   "codemirror_mode": {
    "name": "ipython",
    "version": 3
   },
   "file_extension": ".py",
   "mimetype": "text/x-python",
   "name": "python",
   "nbconvert_exporter": "python",
   "pygments_lexer": "ipython3",
   "version": "3.8.10"
  }
 },
 "nbformat": 4,
 "nbformat_minor": 4
}
