{
 "cells": [
  {
   "cell_type": "markdown",
   "metadata": {
    "hide_cell": true
   },
   "source": [
    "**SA367 &#x25aa; Mathematical Models for Decision Making &#x25aa; Spring 2022 &#x25aa; Uhan**"
   ]
  },
  {
   "cell_type": "markdown",
   "metadata": {
    "hide_cell": true
   },
   "source": [
    "# Lesson 2. An Introduction to Jupyter and Python"
   ]
  },
  {
   "cell_type": "markdown",
   "metadata": {},
   "source": [
    "❗️ This notebook assumes that you're using JupyterLab 3.0+."
   ]
  },
  {
   "cell_type": "markdown",
   "metadata": {},
   "source": [
    "## What is Jupyter?"
   ]
  },
  {
   "cell_type": "markdown",
   "metadata": {},
   "source": [
    "* [__Jupyter__](https://jupyter.org/) is an interactive computational environment where you can combine code, text and graphs in __notebooks__\n",
    "\n",
    "\n",
    "* You're looking at a Jupyter notebook right now!\n",
    "\n",
    "\n",
    "* We'll be using Jupyter with the __Python__ programming langugage in this course to:\n",
    "    * set up data for various models from large-scale real-world sources, and\n",
    "    * solve these models and interpret their output"
   ]
  },
  {
   "cell_type": "markdown",
   "metadata": {},
   "source": [
    "## Structure of a notebook document"
   ]
  },
  {
   "cell_type": "markdown",
   "metadata": {},
   "source": [
    "* A notebook consists of a sequence of __cells__ of different types\n",
    "\n",
    "\n",
    "* We'll use these types of cells frequently:\n",
    "    * code cells\n",
    "    * Markdown cells\n",
    "\n",
    "\n",
    "* You can determine the type of a cell in the toolbar\n",
    "\n",
    "\n",
    "* You can run a cell by:\n",
    "    * clicking the <kbd>&#9654;</kbd> button in the toolbar\n",
    "    * selecting __Run &#8594; Run Selected Cells__ in the menu bar\n",
    "    * pressing <kbd>Shift</kbd>-<kbd>Enter</kbd>"
   ]
  },
  {
   "cell_type": "markdown",
   "metadata": {},
   "source": [
    "### Code cells"
   ]
  },
  {
   "cell_type": "markdown",
   "metadata": {},
   "source": [
    "* In a __code cell__, you can edit and write Python code\n",
    "    * We'll talk about Python shortly\n",
    "\n",
    "\n",
    "* For now, we can use a code cell as a fancy calculator\n",
    "\n",
    "\n",
    "* For example, in the code cell below, let's compute\n",
    "$$ \\frac{2^{5} - 368}{23 + 18} $$"
   ]
  },
  {
   "cell_type": "code",
   "execution_count": null,
   "metadata": {},
   "outputs": [],
   "source": []
  },
  {
   "cell_type": "code",
   "execution_count": 1,
   "metadata": {
    "tags": [
     "solution"
    ]
   },
   "outputs": [
    {
     "data": {
      "text/plain": [
       "-8.195121951219512"
      ]
     },
     "execution_count": 1,
     "metadata": {},
     "output_type": "execute_result"
    }
   ],
   "source": [
    "# Solution\n",
    "(2**5 - 368) / (23 + 18)"
   ]
  },
  {
   "cell_type": "markdown",
   "metadata": {},
   "source": [
    "* Note that a code cell has \n",
    "    * an __input__ section containing your code\n",
    "    * an __output__ section after executing the cell"
   ]
  },
  {
   "cell_type": "markdown",
   "metadata": {},
   "source": [
    "### Markdown cells"
   ]
  },
  {
   "cell_type": "markdown",
   "metadata": {},
   "source": [
    "* In a __Markdown cell__, you can enter text to write notes about your code and document your workflow\n",
    "\n",
    "\n",
    "* For example, this cell is a Markdown cell\n",
    "\n",
    "\n",
    "* The __Markdown__ language is a popular way to provide formatting (e.g. bold, italics, lists) to plain text\n",
    "    * Use Google to find documentation and tutorials. [Here's a pretty good cheat sheet.](https://github.com/adam-p/markdown-here/wiki/Markdown-Cheatsheet)\n",
    "\n",
    "\n",
    "* For now, here are a few basic, useful Markdown constructs:\n",
    "\n",
    "```\n",
    "You can format text as italic with *asterisks* or _underscores_.\n",
    "\n",
    "You can format text as bold with **double asterisks** or __double underscores__.\n",
    "\n",
    "To write a bulleted list, use *, -, or + as bullets, like this:\n",
    "\n",
    "* One\n",
    "* Two\n",
    "* Three\n",
    "```\n",
    "\n",
    "\n",
    "* To edit a Markdown cell, double-click it\n",
    "\n",
    "\n",
    "* When you're done editing it, run the cell"
   ]
  },
  {
   "cell_type": "markdown",
   "metadata": {},
   "source": [
    "❓ __Example__. Try using some of the constructs above in the Markdown cell below."
   ]
  },
  {
   "cell_type": "markdown",
   "metadata": {},
   "source": [
    "*Double-click to edit this cell. Try out Markdown here.*"
   ]
  },
  {
   "cell_type": "markdown",
   "metadata": {},
   "source": [
    "## Manipulating cells"
   ]
  },
  {
   "cell_type": "markdown",
   "metadata": {},
   "source": [
    "* You can insert a new cell by clicking the <kbd>+</kbd> button in the toolbar\n",
    "\n",
    "\n",
    "* You can copy and paste cells using the __Edit__ menu\n",
    "\n",
    "\n",
    "* You can also split, merge, move, and delete cells using the __Edit__ menu\n",
    "\n",
    "\n",
    "* You can also move cells around with your mouse: click on the left part of a cell and drag it to where you want it"
   ]
  },
  {
   "cell_type": "markdown",
   "metadata": {
    "tags": []
   },
   "source": [
    "## Saving your notebook"
   ]
  },
  {
   "cell_type": "markdown",
   "metadata": {},
   "source": [
    "* Jupyter autosaves your notebook every few minutes\n",
    "    * Check __Settings &#8594; Autosave Documents__ to make sure this setting is turned on\n",
    "\n",
    "\n",
    "* To manually save, click the <kbd>&#128190;</kbd> icon, or select __File &#8594; Save Notebook__\n",
    "\n",
    "\n",
    "* When you're done, you can shut down Jupyter by selecting __File &#8594; Shut Down__"
   ]
  },
  {
   "cell_type": "markdown",
   "metadata": {},
   "source": [
    "## Moving on..."
   ]
  },
  {
   "cell_type": "markdown",
   "metadata": {},
   "source": [
    "* We'll go over some other features of Jupyter later\n",
    "\n",
    "\n",
    "* [The official documentation is here](https://jupyterlab.readthedocs.io/)\n",
    "\n",
    "\n",
    "* There are many resources out there on using Jupyter &mdash; Google is your friend!"
   ]
  },
  {
   "cell_type": "markdown",
   "metadata": {},
   "source": [
    "---"
   ]
  },
  {
   "cell_type": "markdown",
   "metadata": {},
   "source": [
    "## What is Python &mdash; and why?"
   ]
  },
  {
   "cell_type": "markdown",
   "metadata": {},
   "source": [
    "![https://xkcd.com/353/](img/python.png)"
   ]
  },
  {
   "cell_type": "markdown",
   "metadata": {},
   "source": [
    "* __Python__ is a *free*, open-source, general-purpose programming language\n",
    "\n",
    "\n",
    "* Python is popular and used everywhere &mdash; a few examples:\n",
    "    - [Automation, monitoring, data science, and more at Netflix](https://netflixtechblog.com/python-at-netflix-86b6028b3b3e)\n",
    "    - [Special effects at Industrial Light and Magic](https://www.davincicoders.com/codingblog/2017/2/10/love-movies-learn-to-code-python-and-you-might-work-for-ilm)\n",
    "    - [Analysis of historical texts](https://digitalorientalist.com/2019/07/01/making-a-basic-textual-analysis-program-in-python/)\n",
    "\n",
    "\n",
    "* Python is \"beautiful\": its syntax was designed with an emphasis on readability\n",
    "\n",
    "\n",
    "* Python has become the language of choice for data science and machine learning\n",
    "\n",
    "* _Side note._ Even if you're familiar with other programming languages, having exposure to multiple programming languages will be very useful to you as a {data scientist, operations researcher, quantitative analyst, statistician, economist, etc.}"
   ]
  },
  {
   "cell_type": "markdown",
   "metadata": {},
   "source": [
    "## A survival course in Python"
   ]
  },
  {
   "cell_type": "markdown",
   "metadata": {},
   "source": [
    "* In this lesson, we will learn some basic Python concepts that will be useful in this course\n",
    "\n",
    "* We will cover other concepts throughout the semester as needed\n",
    "    \n",
    "* There is a wealth of information on Python on the web!\n",
    "\n",
    "* [Here is the documentation for Python 3.9](https://docs.python.org/3.9/)"
   ]
  },
  {
   "cell_type": "markdown",
   "metadata": {
    "tags": []
   },
   "source": [
    "## Fancy calculator"
   ]
  },
  {
   "cell_type": "markdown",
   "metadata": {},
   "source": [
    "* You can define a variable using the `=` sign\n",
    "\n",
    "\n",
    "* You can perform arithmetic operations on variables\n",
    "\n",
    "\n",
    "* You can print the value of a variable using the `print()` function\n",
    "\n",
    "\n",
    "* For example, in the cell below, let's:\n",
    "    - define two variables representing the dimensions of a rectangle\n",
    "    - compute the area of this rectangle\n",
    "    - print the area of this rectangle\n",
    "\n",
    "\n",
    "* Don't forget to run the cell when you're done!    "
   ]
  },
  {
   "cell_type": "code",
   "execution_count": null,
   "metadata": {},
   "outputs": [],
   "source": []
  },
  {
   "cell_type": "code",
   "execution_count": 2,
   "metadata": {
    "tags": [
     "solution"
    ]
   },
   "outputs": [
    {
     "name": "stdout",
     "output_type": "stream",
     "text": [
      "1200\n"
     ]
    }
   ],
   "source": [
    "# Solution\n",
    "# This is what a comment looks like in Python\n",
    "# Define dimensions of a rectangle\n",
    "length = 30\n",
    "width = 40\n",
    "\n",
    "# Compute area\n",
    "area = length * width\n",
    "\n",
    "# Print area\n",
    "print(area)"
   ]
  },
  {
   "cell_type": "markdown",
   "metadata": {},
   "source": [
    "* If you try to access a variable you haven't yet defined, Python will complain\n",
    "\n",
    "\n",
    "* For example, if we try to print the value of the variable `volume`:"
   ]
  },
  {
   "cell_type": "code",
   "execution_count": 3,
   "metadata": {},
   "outputs": [
    {
     "ename": "NameError",
     "evalue": "name 'volume' is not defined",
     "output_type": "error",
     "traceback": [
      "\u001b[0;31m---------------------------------------------------------------------------\u001b[0m",
      "\u001b[0;31mNameError\u001b[0m                                 Traceback (most recent call last)",
      "\u001b[0;32m<ipython-input-3-14ae0d839e78>\u001b[0m in \u001b[0;36m<module>\u001b[0;34m\u001b[0m\n\u001b[0;32m----> 1\u001b[0;31m \u001b[0mprint\u001b[0m\u001b[0;34m(\u001b[0m\u001b[0mvolume\u001b[0m\u001b[0;34m)\u001b[0m\u001b[0;34m\u001b[0m\u001b[0;34m\u001b[0m\u001b[0m\n\u001b[0m",
      "\u001b[0;31mNameError\u001b[0m: name 'volume' is not defined"
     ]
    }
   ],
   "source": [
    "print(volume)"
   ]
  },
  {
   "cell_type": "markdown",
   "metadata": {},
   "source": [
    "* Note that variable definitions are persistent across cells\n",
    "\n",
    "\n",
    "* For example, in the cell below, let's:\n",
    "    - define the height of a box\n",
    "    - compute the volume of this box, using the length and width we defined in the cell above\n",
    "    - print the volume of this box"
   ]
  },
  {
   "cell_type": "code",
   "execution_count": null,
   "metadata": {},
   "outputs": [],
   "source": []
  },
  {
   "cell_type": "code",
   "execution_count": 4,
   "metadata": {
    "run_control": {
     "marked": false
    },
    "tags": [
     "solution"
    ]
   },
   "outputs": [
    {
     "name": "stdout",
     "output_type": "stream",
     "text": [
      "12000\n"
     ]
    }
   ],
   "source": [
    "# Solution\n",
    "# Define height of box\n",
    "height = 10\n",
    "\n",
    "# Compute volume\n",
    "volume = length * width * height\n",
    "\n",
    "# Print volume\n",
    "print(volume)"
   ]
  },
  {
   "cell_type": "markdown",
   "metadata": {},
   "source": [
    "* Note that the __prompt numbers__ next to the code cells (e.g. `[3]`) indicate which cells have been run and *in which order*\n",
    "\n",
    "\n",
    "* This is very useful, especially if you are running cells out-of-sequence"
   ]
  },
  {
   "cell_type": "markdown",
   "metadata": {},
   "source": [
    "## Hello, world!"
   ]
  },
  {
   "cell_type": "markdown",
   "metadata": {},
   "source": [
    "* __Strings__ are lists of printable characters defined using either double quotes or single quotes\n",
    "\n",
    "* Just like with variables, to print a string, you can use the `print()` function, like this:"
   ]
  },
  {
   "cell_type": "code",
   "execution_count": null,
   "metadata": {},
   "outputs": [],
   "source": []
  },
  {
   "cell_type": "code",
   "execution_count": 5,
   "metadata": {
    "tags": [
     "solution"
    ]
   },
   "outputs": [
    {
     "name": "stdout",
     "output_type": "stream",
     "text": [
      "Hello, world!\n"
     ]
    }
   ],
   "source": [
    "# Solution\n",
    "print(\"Hello, world!\")"
   ]
  },
  {
   "cell_type": "markdown",
   "metadata": {},
   "source": [
    "* To insert a variable's value into a string:\n",
    "    - place the letter `f` immediately before the opening quotation mark\n",
    "    - put braces `{}` around the names of any variables you want to use inside the string\n",
    "\n",
    "\n",
    "* These strings are called __f-strings__\n",
    "\n",
    "\n",
    "* For example, in the cell below, let's:\n",
    "    - define a variable for your neighbor's name\n",
    "    - print a sentence containing your neighbor's name"
   ]
  },
  {
   "cell_type": "code",
   "execution_count": null,
   "metadata": {},
   "outputs": [],
   "source": []
  },
  {
   "cell_type": "code",
   "execution_count": 6,
   "metadata": {
    "tags": [
     "solution"
    ]
   },
   "outputs": [
    {
     "name": "stdout",
     "output_type": "stream",
     "text": [
      "My neighbor is Nelson.\n"
     ]
    }
   ],
   "source": [
    "# Solution\n",
    "# Define a variable for your neighbor's name\n",
    "neighbor = 'Nelson'\n",
    "\n",
    "# Print the value of the 'neighbor' variable\n",
    "print(f'My neighbor is {neighbor}.')"
   ]
  },
  {
   "cell_type": "markdown",
   "metadata": {
    "tags": []
   },
   "source": [
    "* More generally, f-strings can also be used to insert the value of a Python expression, like this:"
   ]
  },
  {
   "cell_type": "code",
   "execution_count": 7,
   "metadata": {},
   "outputs": [
    {
     "name": "stdout",
     "output_type": "stream",
     "text": [
      "Two plus two is equal to 4.\n"
     ]
    }
   ],
   "source": [
    "print(f'Two plus two is equal to {2 + 2}.')"
   ]
  },
  {
   "cell_type": "markdown",
   "metadata": {},
   "source": [
    "<br>\n",
    "\n",
    "❓ __Example.__ Define three variables, `left`, `right`, `me`, containing the names of your neighbors and yourself. Use the `print()` function to print the values of these variables in one line."
   ]
  },
  {
   "cell_type": "code",
   "execution_count": null,
   "metadata": {},
   "outputs": [],
   "source": []
  },
  {
   "cell_type": "code",
   "execution_count": 8,
   "metadata": {
    "tags": [
     "solution"
    ]
   },
   "outputs": [
    {
     "name": "stdout",
     "output_type": "stream",
     "text": [
      "I'm Nelson, my neighbor to the left is Alice, and my neighbor to the right is Carol.\n"
     ]
    }
   ],
   "source": [
    "# Solution\n",
    "# Define variables\n",
    "left = 'Alice'\n",
    "right = 'Carol'\n",
    "me = 'Nelson'\n",
    "\n",
    "# Print values of variables\n",
    "print(f\"I'm {me}, my neighbor to the left is {left}, and my neighbor to the right is {right}.\")"
   ]
  },
  {
   "cell_type": "markdown",
   "metadata": {},
   "source": [
    "## Lists"
   ]
  },
  {
   "cell_type": "markdown",
   "metadata": {},
   "source": [
    "* A __list__ is a collection of items that are organized in a particular order\n",
    "\n",
    "* You can think of a list as an array or a vector\n",
    "\n",
    "* A list is written as a sequence of comma-separated items between square brackets, like this:"
   ]
  },
  {
   "cell_type": "code",
   "execution_count": null,
   "metadata": {},
   "outputs": [],
   "source": []
  },
  {
   "cell_type": "code",
   "execution_count": 9,
   "metadata": {
    "tags": [
     "solution"
    ]
   },
   "outputs": [],
   "source": [
    "# Solution\n",
    "# Define a list containing the first 5 square numbers\n",
    "squares = [0, 1, 4, 9, 16]\n",
    "\n",
    "# Define a list containing the days of the week\n",
    "days_of_the_week = [\"Sun\", \"Mon\", \"Tue\", \"Wed\", \"Thu\", \"Fri\", \"Sat\"]"
   ]
  },
  {
   "cell_type": "markdown",
   "metadata": {},
   "source": [
    "* To get the first item in `days_of_the_week`, we would write\n",
    "\n",
    "    ```python\n",
    "    days_of_the_week[0]\n",
    "    ```\n",
    "\n",
    "\n",
    "* __In Python, indexing (that is, counting) starts at 0!__\n",
    "\n",
    "\n",
    "* So, we can get the third day of the week, like this:"
   ]
  },
  {
   "cell_type": "code",
   "execution_count": null,
   "metadata": {},
   "outputs": [],
   "source": []
  },
  {
   "cell_type": "code",
   "execution_count": 10,
   "metadata": {
    "tags": [
     "solution"
    ]
   },
   "outputs": [
    {
     "name": "stdout",
     "output_type": "stream",
     "text": [
      "Tue\n"
     ]
    }
   ],
   "source": [
    "# Solution\n",
    "print(days_of_the_week[2])"
   ]
  },
  {
   "cell_type": "markdown",
   "metadata": {},
   "source": [
    "* We can add items to the end of a list using the `.append()` method\n",
    "\n",
    "\n",
    "* We can also print lists just like any other variable\n",
    "\n",
    "\n",
    "* Let's add the 6th squared number to the list `squares`:"
   ]
  },
  {
   "cell_type": "code",
   "execution_count": null,
   "metadata": {},
   "outputs": [],
   "source": []
  },
  {
   "cell_type": "code",
   "execution_count": 11,
   "metadata": {
    "tags": [
     "solution"
    ]
   },
   "outputs": [],
   "source": [
    "# Solution\n",
    "squares.append(25)"
   ]
  },
  {
   "cell_type": "markdown",
   "metadata": {},
   "source": [
    "* Let's check our work by printing the list:"
   ]
  },
  {
   "cell_type": "code",
   "execution_count": null,
   "metadata": {
    "tags": []
   },
   "outputs": [],
   "source": []
  },
  {
   "cell_type": "code",
   "execution_count": 12,
   "metadata": {
    "tags": [
     "solution"
    ]
   },
   "outputs": [
    {
     "name": "stdout",
     "output_type": "stream",
     "text": [
      "squares = [0, 1, 4, 9, 16, 25]\n"
     ]
    }
   ],
   "source": [
    "# Solution\n",
    "print(f\"squares = {squares}\")"
   ]
  },
  {
   "cell_type": "markdown",
   "metadata": {},
   "source": [
    "* We can determine the length of a list using the `len()` function\n",
    "\n",
    "\n",
    "* For example, we can get the length of the list `days_of_the_week`, like this:"
   ]
  },
  {
   "cell_type": "code",
   "execution_count": null,
   "metadata": {},
   "outputs": [],
   "source": []
  },
  {
   "cell_type": "code",
   "execution_count": 13,
   "metadata": {
    "tags": [
     "solution"
    ]
   },
   "outputs": [
    {
     "data": {
      "text/plain": [
       "7"
      ]
     },
     "execution_count": 13,
     "metadata": {},
     "output_type": "execute_result"
    }
   ],
   "source": [
    "# Solution\n",
    "len(days_of_the_week)"
   ]
  },
  {
   "cell_type": "markdown",
   "metadata": {},
   "source": [
    "## Dictionaries"
   ]
  },
  {
   "cell_type": "markdown",
   "metadata": {
    "tags": []
   },
   "source": [
    "* A __dictionary__ is another way to organize a collection of items\n",
    "\n",
    "\n",
    "* A dictionary maps __keys__ to __values__\n",
    "    - Just like a real-world dictionary maps *words* to *definitions*\n",
    "\n",
    "\n",
    "* We can create a dictionary by starting with an empty dictionary and adding key-value pairs, like this:"
   ]
  },
  {
   "cell_type": "code",
   "execution_count": null,
   "metadata": {},
   "outputs": [],
   "source": []
  },
  {
   "cell_type": "code",
   "execution_count": 14,
   "metadata": {
    "tags": [
     "solution"
    ]
   },
   "outputs": [],
   "source": [
    "# Solution\n",
    "# Create empty dictionary\n",
    "mid = {}\n",
    "\n",
    "# Add key-value pairs\n",
    "mid['First Name'] = 'Nelson'\n",
    "mid['Last Name'] = 'Uhan'\n",
    "mid['Company'] = 0"
   ]
  },
  {
   "cell_type": "markdown",
   "metadata": {},
   "source": [
    "* You can also print dictionaries just like any other variable"
   ]
  },
  {
   "cell_type": "code",
   "execution_count": null,
   "metadata": {},
   "outputs": [],
   "source": []
  },
  {
   "cell_type": "code",
   "execution_count": 15,
   "metadata": {
    "tags": [
     "solution"
    ]
   },
   "outputs": [
    {
     "name": "stdout",
     "output_type": "stream",
     "text": [
      "{'First Name': 'Nelson', 'Last Name': 'Uhan', 'Company': 0}\n"
     ]
    }
   ],
   "source": [
    "# Solution\n",
    "print(mid)"
   ]
  },
  {
   "cell_type": "markdown",
   "metadata": {},
   "source": [
    "* We can also create a dictionary by specifying the key-value pairs directly between braces `{}`:"
   ]
  },
  {
   "cell_type": "code",
   "execution_count": null,
   "metadata": {},
   "outputs": [],
   "source": []
  },
  {
   "cell_type": "code",
   "execution_count": 16,
   "metadata": {
    "tags": [
     "solution"
    ]
   },
   "outputs": [
    {
     "name": "stdout",
     "output_type": "stream",
     "text": [
      "{'First Name': 'Nelson', 'Last Name': 'Uhan', 'Company': 0}\n"
     ]
    }
   ],
   "source": [
    "# Solution\n",
    "# Create dictionary\n",
    "another_mid = {'First Name': 'Nelson', 'Last Name': 'Uhan', 'Company': 0}\n",
    "\n",
    "# Print the dictionary\n",
    "print(another_mid)"
   ]
  },
  {
   "cell_type": "markdown",
   "metadata": {},
   "source": [
    "* Similar to a list, we can use a key to look up the corresponding value in a dictionary, like this:"
   ]
  },
  {
   "cell_type": "code",
   "execution_count": null,
   "metadata": {},
   "outputs": [],
   "source": []
  },
  {
   "cell_type": "code",
   "execution_count": 17,
   "metadata": {
    "tags": [
     "solution"
    ]
   },
   "outputs": [
    {
     "name": "stdout",
     "output_type": "stream",
     "text": [
      "Uhan\n"
     ]
    }
   ],
   "source": [
    "# Solution\n",
    "# The last name of this mid is...\n",
    "print(mid['Last Name'])"
   ]
  },
  {
   "cell_type": "markdown",
   "metadata": {},
   "source": [
    "## Loops and nesting"
   ]
  },
  {
   "cell_type": "markdown",
   "metadata": {},
   "source": [
    "* We can iterate through lists using a `for` statement\n",
    "\n",
    "\n",
    "* For example, consider the following list, containing strings representing the months of the year:"
   ]
  },
  {
   "cell_type": "code",
   "execution_count": 18,
   "metadata": {},
   "outputs": [],
   "source": [
    "months_of_the_year = [\"Jan\", \"Feb\", \"Mar\", \"Apr\", \"May\", \"Jun\", \"Jul\", \"Aug\", \"Sep\", \"Nov\", \"Dec\"]"
   ]
  },
  {
   "cell_type": "markdown",
   "metadata": {},
   "source": [
    "* We can print each string in this list, like this: "
   ]
  },
  {
   "cell_type": "code",
   "execution_count": null,
   "metadata": {},
   "outputs": [],
   "source": []
  },
  {
   "cell_type": "code",
   "execution_count": 19,
   "metadata": {
    "tags": [
     "solution"
    ]
   },
   "outputs": [
    {
     "name": "stdout",
     "output_type": "stream",
     "text": [
      "Jan\n",
      "Feb\n",
      "Mar\n",
      "Apr\n",
      "May\n",
      "Jun\n",
      "Jul\n",
      "Aug\n",
      "Sep\n",
      "Nov\n",
      "Dec\n"
     ]
    }
   ],
   "source": [
    "# Solution\n",
    "for month in months_of_the_year:\n",
    "    print(month)"
   ]
  },
  {
   "cell_type": "markdown",
   "metadata": {},
   "source": [
    "* Python defines blocks of code using a __colon `:`__ followed by __indentation__\n",
    "\n",
    "\n",
    "* The code we wrote above is NOT the same as\n",
    "\n",
    "    ```python\n",
    "    for month in months_of_the_year:\n",
    "    print(month)\n",
    "    ```\n",
    "\n",
    "\n",
    "* Always use the __Tab__ key to indent &mdash; this will keep your indentation consistent"
   ]
  },
  {
   "cell_type": "markdown",
   "metadata": {},
   "source": [
    "* Often we will want to write a for loop over consecutive integers\n",
    "\n",
    "\n",
    "* We can do this using the `range()` function\n",
    "\n",
    "\n",
    "* `range(n)` is equivalent to to the list `[0, 1, ..., n - 1]`\n",
    "\n",
    "\n",
    "* `range(start, stop)` is equivalent to the list `[start, start + 1, ..., stop - 1]`\n",
    "\n",
    "\n",
    "* For example, we can print the first 10 integers, starting at 0, like this:"
   ]
  },
  {
   "cell_type": "code",
   "execution_count": null,
   "metadata": {},
   "outputs": [],
   "source": []
  },
  {
   "cell_type": "code",
   "execution_count": 20,
   "metadata": {
    "tags": [
     "solution"
    ]
   },
   "outputs": [
    {
     "name": "stdout",
     "output_type": "stream",
     "text": [
      "0\n",
      "1\n",
      "2\n",
      "3\n",
      "4\n",
      "5\n",
      "6\n",
      "7\n",
      "8\n",
      "9\n"
     ]
    }
   ],
   "source": [
    "# Solution\n",
    "for i in range(10):\n",
    "    print(i)"
   ]
  },
  {
   "cell_type": "markdown",
   "metadata": {},
   "source": [
    "- We can print the integers between 3 and 8 inclusive, like this:"
   ]
  },
  {
   "cell_type": "code",
   "execution_count": null,
   "metadata": {},
   "outputs": [],
   "source": []
  },
  {
   "cell_type": "code",
   "execution_count": 21,
   "metadata": {
    "tags": [
     "solution"
    ]
   },
   "outputs": [
    {
     "name": "stdout",
     "output_type": "stream",
     "text": [
      "3\n",
      "4\n",
      "5\n",
      "6\n",
      "7\n",
      "8\n"
     ]
    }
   ],
   "source": [
    "# Solution\n",
    "for i in range(3, 9):\n",
    "    print(i)"
   ]
  },
  {
   "cell_type": "markdown",
   "metadata": {},
   "source": [
    "* *Technically*, `range(n)` and `range(start, stop)` aren't really lists. But it's OK to think of them as lists for now."
   ]
  },
  {
   "cell_type": "markdown",
   "metadata": {},
   "source": [
    "❓ __Example.__ Write code to create a list of the first 10 cubic numbers, starting with $0^3$. Print the list.\n",
    "\n",
    "*Hint*. Start by creating an empty list:\n",
    "\n",
    "```python\n",
    "cubics = []\n",
    "```\n",
    "\n",
    "Then *append* to this list using a `for` loop."
   ]
  },
  {
   "cell_type": "code",
   "execution_count": null,
   "metadata": {},
   "outputs": [],
   "source": []
  },
  {
   "cell_type": "code",
   "execution_count": 22,
   "metadata": {
    "tags": [
     "solution"
    ]
   },
   "outputs": [
    {
     "name": "stdout",
     "output_type": "stream",
     "text": [
      "[0, 1, 8, 27, 64, 125, 216, 343, 512, 729]\n"
     ]
    }
   ],
   "source": [
    "# Solution\n",
    "cubics = []\n",
    "for i in range(10):\n",
    "    cubics.append(i**3)\n",
    "\n",
    "print(cubics)"
   ]
  },
  {
   "cell_type": "markdown",
   "metadata": {
    "tags": []
   },
   "source": [
    "## If this, then that"
   ]
  },
  {
   "cell_type": "markdown",
   "metadata": {},
   "source": [
    "* The `==` operator performs __equality testing__: \n",
    "    - If the two items on either side of `==` are equal, then it returns `True`\n",
    "    - Otherwise, it returns `False`\n",
    "\n",
    "\n",
    "* For example, let's define the variable `today` to be the string `'Tuesday'`:    "
   ]
  },
  {
   "cell_type": "code",
   "execution_count": 23,
   "metadata": {},
   "outputs": [],
   "source": [
    "today = 'Tuesday'"
   ]
  },
  {
   "cell_type": "markdown",
   "metadata": {},
   "source": [
    "* We can check if the variable `today` is equal to `'Tuesday'`, like this:"
   ]
  },
  {
   "cell_type": "code",
   "execution_count": null,
   "metadata": {},
   "outputs": [],
   "source": []
  },
  {
   "cell_type": "code",
   "execution_count": 24,
   "metadata": {
    "tags": [
     "solution"
    ]
   },
   "outputs": [
    {
     "name": "stdout",
     "output_type": "stream",
     "text": [
      "True\n"
     ]
    }
   ],
   "source": [
    "# Solution\n",
    "print(today == 'Tuesday')"
   ]
  },
  {
   "cell_type": "markdown",
   "metadata": {},
   "source": [
    "* Let's see what happens when we check if the variable `today` is equal to `'Friday'`:"
   ]
  },
  {
   "cell_type": "code",
   "execution_count": null,
   "metadata": {},
   "outputs": [],
   "source": []
  },
  {
   "cell_type": "code",
   "execution_count": 25,
   "metadata": {
    "tags": [
     "solution"
    ]
   },
   "outputs": [
    {
     "name": "stdout",
     "output_type": "stream",
     "text": [
      "False\n"
     ]
    }
   ],
   "source": [
    "# Solution\n",
    "print(today == 'Friday')"
   ]
  },
  {
   "cell_type": "markdown",
   "metadata": {},
   "source": [
    "* Conditional statements are written using the same block/indentation structure as `for` statements, using the keywords `if`, `elif`, and `else`\n",
    "\n",
    "\n",
    "* For example, let's write some conditional statements that tell us what to do, based on the day of the week:"
   ]
  },
  {
   "cell_type": "code",
   "execution_count": null,
   "metadata": {},
   "outputs": [],
   "source": []
  },
  {
   "cell_type": "code",
   "execution_count": 26,
   "metadata": {
    "tags": [
     "solution"
    ]
   },
   "outputs": [
    {
     "name": "stdout",
     "output_type": "stream",
     "text": [
      "Have fun.\n"
     ]
    }
   ],
   "source": [
    "# Solution\n",
    "# Today is...\n",
    "today = \"Saturday\"\n",
    "\n",
    "# What should I do?\n",
    "if today == \"Friday\":\n",
    "    print(\"Go out.\")\n",
    "elif today == \"Saturday\":\n",
    "    print(\"Have fun.\")\n",
    "else:\n",
    "    print(\"Study.\")"
   ]
  },
  {
   "cell_type": "markdown",
   "metadata": {
    "tags": []
   },
   "source": [
    "* Other types of comparisons:\n",
    "\n",
    "| Comparison | Meaning |\n",
    "| :----------- | :-------- |\n",
    "| `==`         | equal  |\n",
    "| `!=`         | not equal |\n",
    "| `<`          | less than  |\n",
    "| `>`          | greater than |\n",
    "| `<=`         | less than or equal |\n",
    "| `>=`         | greater than or equal |"
   ]
  },
  {
   "cell_type": "markdown",
   "metadata": {},
   "source": [
    "❓ __Example.__ Using `if`-`elif`-`else` statements, write code to only print the first 10 cubic numbers ($0^3$, $1^3$, $2^3$, $3^3$, ...) that are greater than 100. Your output should look something like this:\n",
    "\n",
    "```\n",
    "    The cube of 5 is 125.\n",
    "    The cube of 6 is 216.\n",
    "```\n",
    "\n",
    "and so on."
   ]
  },
  {
   "cell_type": "code",
   "execution_count": null,
   "metadata": {},
   "outputs": [],
   "source": []
  },
  {
   "cell_type": "code",
   "execution_count": 27,
   "metadata": {
    "tags": [
     "solution"
    ]
   },
   "outputs": [
    {
     "name": "stdout",
     "output_type": "stream",
     "text": [
      "The cube of 5 is 125.\n",
      "The cube of 6 is 216.\n",
      "The cube of 7 is 343.\n",
      "The cube of 8 is 512.\n",
      "The cube of 9 is 729.\n"
     ]
    }
   ],
   "source": [
    "# Solution\n",
    "for i in range(10):\n",
    "    if i ** 3 > 100:\n",
    "        print(f\"The cube of {i} is {i**3}.\")"
   ]
  },
  {
   "cell_type": "markdown",
   "metadata": {},
   "source": [
    "---"
   ]
  },
  {
   "cell_type": "markdown",
   "metadata": {},
   "source": [
    "## Useful JupyterLab features"
   ]
  },
  {
   "cell_type": "markdown",
   "metadata": {},
   "source": [
    "### Line numbers"
   ]
  },
  {
   "cell_type": "markdown",
   "metadata": {},
   "source": [
    "* Put line numbers in code cells by selecting __View &#8594; Show Line Numbers__"
   ]
  },
  {
   "cell_type": "markdown",
   "metadata": {},
   "source": [
    "### Indenting multiple lines"
   ]
  },
  {
   "cell_type": "markdown",
   "metadata": {},
   "source": [
    "* Highlight the lines you want to indent, and then press <kbd>Tab</kbd>\n",
    "\n",
    "\n",
    "* If you want to de-indent them (i.e., indent them to the left), press <kbd>Shift</kbd>+<kbd>Tab</kbd>"
   ]
  },
  {
   "cell_type": "code",
   "execution_count": 28,
   "metadata": {},
   "outputs": [
    {
     "name": "stdout",
     "output_type": "stream",
     "text": [
      "The name of this student is Amy.\n",
      "The name of this student is Bob.\n",
      "The name of this student is Carol.\n",
      "The Spanish word for home is casa.\n",
      "The Spanish word for navy is armada.\n"
     ]
    }
   ],
   "source": [
    "# Play around with indenting and de-indenting code.\n",
    "# Read the code in this cell. Make sure you understand what it does!\n",
    "student_names = ['Amy', 'Bob', 'Carol']\n",
    "for name in student_names:\n",
    "    print(f'The name of this student is {name}.')\n",
    "\n",
    "english_words = ['home', 'navy']\n",
    "spanish = {'home': 'casa', 'navy': 'armada', 'blue': 'azul'}\n",
    "\n",
    "for word in english_words:\n",
    "    print(f\"The Spanish word for {word} is {spanish[word]}.\")"
   ]
  },
  {
   "cell_type": "markdown",
   "metadata": {},
   "source": [
    "### Running multiple cells"
   ]
  },
  {
   "cell_type": "markdown",
   "metadata": {},
   "source": [
    "* You can run all the cells in a notebook by selecting __Run &#8594; Run All Cells__\n",
    "\n",
    "\n",
    "* You can run all the cells above the current cell by selecting __Run &#8594; Run All Above Selected Cell__\n",
    "\n",
    "\n",
    "* You can run the current cell and all below by selecting __Run &#8594; Run Selected Cell and All Below__"
   ]
  },
  {
   "cell_type": "markdown",
   "metadata": {},
   "source": [
    "### Clearing the output of code cells"
   ]
  },
  {
   "cell_type": "markdown",
   "metadata": {},
   "source": [
    "* You can clear the output of a code cell by selecting __Edit &#8594; Clear Output__\n",
    "\n",
    "\n",
    "* You can clear the output of all code cells by selecting __Edit &#8594; Clear All Outputs__"
   ]
  },
  {
   "cell_type": "markdown",
   "metadata": {},
   "source": [
    "---"
   ]
  },
  {
   "cell_type": "markdown",
   "metadata": {},
   "source": [
    "## Problems"
   ]
  },
  {
   "cell_type": "markdown",
   "metadata": {},
   "source": [
    "### Problem 1 (Building lists)"
   ]
  },
  {
   "cell_type": "markdown",
   "metadata": {},
   "source": [
    "The goal of this problem is to give you practice with building lists.\n",
    "\n",
    "Recall that $x$ degrees Celsius is\n",
    "\n",
    "$$\\frac{9}{5} x + 32$$\n",
    "\n",
    "degrees Fahrenheit. Using a `for` loop, create a list with the temperatures in degrees Celsius given below, converted to degrees Fahrenheit. Print the list of converted temperatures."
   ]
  },
  {
   "cell_type": "code",
   "execution_count": 29,
   "metadata": {},
   "outputs": [],
   "source": [
    "# List of temperatures to convert\n",
    "celsius = [39.2, 33.3, 36.5, 31.6, 37.3, 37.8, 42.1, 28.6]"
   ]
  },
  {
   "cell_type": "code",
   "execution_count": null,
   "metadata": {},
   "outputs": [],
   "source": []
  },
  {
   "cell_type": "code",
   "execution_count": 30,
   "metadata": {
    "tags": [
     "solution"
    ]
   },
   "outputs": [
    {
     "name": "stdout",
     "output_type": "stream",
     "text": [
      "Temperatures in deg F = [102.56, 91.94, 97.7, 88.88, 99.14, 100.03999999999999, 107.78, 83.48]\n"
     ]
    }
   ],
   "source": [
    "# Solution\n",
    "# List of temperatures in Fahrenheit\n",
    "fahrenheit = []\n",
    "for temp in celsius:\n",
    "    fahrenheit.append((9/5)*temp + 32)\n",
    "    \n",
    "# Print the list of temperatures in Fahrenheit\n",
    "print(f\"Temperatures in deg F = {fahrenheit}\")"
   ]
  },
  {
   "cell_type": "markdown",
   "metadata": {},
   "source": [
    "### Problem 2  (List methods, reading and using documentation)"
   ]
  },
  {
   "cell_type": "markdown",
   "metadata": {},
   "source": [
    "The goal of this problem is to introduce you to different list methods, and to give you some practice with reading and using documentation.\n",
    "\n",
    "Read the Python documentation on list methods found in Section 5.1 [here](https://docs.python.org/3.9/tutorial/datastructures.html). Use these methods to do the following with the list of student names given below.\n",
    "\n",
    "* Find the index of first student named Zelda in the list.\n",
    "* Insert your name in the 3rd position of the list. Print the list to check your work.\n",
    "* Sort the list in alphabetical order. Print the list to check your work.\n",
    "* Find how many students named Junior are in the list.\n",
    "* Remove Leo from the list. Print the list to check your work."
   ]
  },
  {
   "cell_type": "code",
   "execution_count": 31,
   "metadata": {},
   "outputs": [],
   "source": [
    "# List of student names, generated courtesy of http://listofrandomnames.com\n",
    "students = [\"Sterling\", \"Malika\", \"Junior\", \"Shiloh\", \"Zelda\", \"Helene\", \"Leo\", \"Junior\", \"Jacinto\", \"Craig\"]"
   ]
  },
  {
   "cell_type": "code",
   "execution_count": null,
   "metadata": {},
   "outputs": [],
   "source": []
  },
  {
   "cell_type": "code",
   "execution_count": 32,
   "metadata": {
    "tags": [
     "solution"
    ]
   },
   "outputs": [
    {
     "data": {
      "text/plain": [
       "4"
      ]
     },
     "execution_count": 32,
     "metadata": {},
     "output_type": "execute_result"
    }
   ],
   "source": [
    "# Solution\n",
    "# Find the index of first student named Zelda in the list\n",
    "students.index(\"Zelda\")"
   ]
  },
  {
   "cell_type": "code",
   "execution_count": 33,
   "metadata": {
    "tags": [
     "solution"
    ]
   },
   "outputs": [
    {
     "name": "stdout",
     "output_type": "stream",
     "text": [
      "['Sterling', 'Malika', 'Nelson', 'Junior', 'Shiloh', 'Zelda', 'Helene', 'Leo', 'Junior', 'Jacinto', 'Craig']\n"
     ]
    }
   ],
   "source": [
    "# Solution\n",
    "# Insert your name in the 3rd position of the list\n",
    "students.insert(2, \"Nelson\")\n",
    "print(students)"
   ]
  },
  {
   "cell_type": "code",
   "execution_count": 34,
   "metadata": {
    "tags": [
     "solution"
    ]
   },
   "outputs": [
    {
     "name": "stdout",
     "output_type": "stream",
     "text": [
      "['Craig', 'Helene', 'Jacinto', 'Junior', 'Junior', 'Leo', 'Malika', 'Nelson', 'Shiloh', 'Sterling', 'Zelda']\n"
     ]
    }
   ],
   "source": [
    "# Solution\n",
    "# Sort the list in alphabetical order\n",
    "students.sort()\n",
    "print(students)"
   ]
  },
  {
   "cell_type": "code",
   "execution_count": 35,
   "metadata": {
    "tags": [
     "solution"
    ]
   },
   "outputs": [
    {
     "data": {
      "text/plain": [
       "2"
      ]
     },
     "execution_count": 35,
     "metadata": {},
     "output_type": "execute_result"
    }
   ],
   "source": [
    "# Solution\n",
    "# Find how many students named Junior are in the list\n",
    "students.count(\"Junior\")"
   ]
  },
  {
   "cell_type": "code",
   "execution_count": 36,
   "metadata": {
    "tags": [
     "solution"
    ]
   },
   "outputs": [
    {
     "name": "stdout",
     "output_type": "stream",
     "text": [
      "['Craig', 'Helene', 'Jacinto', 'Junior', 'Junior', 'Malika', 'Nelson', 'Shiloh', 'Sterling', 'Zelda']\n"
     ]
    }
   ],
   "source": [
    "# Solution\n",
    "# Remove Leo from the list\n",
    "students.remove(\"Leo\")\n",
    "print(students)"
   ]
  },
  {
   "cell_type": "markdown",
   "metadata": {},
   "source": [
    "### Problem 3 (Working with dictionaries)"
   ]
  },
  {
   "cell_type": "markdown",
   "metadata": {},
   "source": [
    "The goal of this problem is to introduce you to a few more ways to work with dictionaries.\n",
    "\n",
    "In class, we saw that we can build a dictionary by specifying its key-value pairs in between curly brackets `{ }`,  like this:"
   ]
  },
  {
   "cell_type": "code",
   "execution_count": 37,
   "metadata": {},
   "outputs": [],
   "source": [
    "# Initial dictionary of state capitals\n",
    "capital = {\"CA\": \"Sacramento\", \"MI\": \"Lansing\", \"FL\": \"Tallahassee\"}"
   ]
  },
  {
   "cell_type": "markdown",
   "metadata": {},
   "source": [
    "Run the cell above, and add the state capitals of Maryland, Ohio, and Texas to this dictionary. Don't forget the quotation marks!"
   ]
  },
  {
   "cell_type": "code",
   "execution_count": null,
   "metadata": {},
   "outputs": [],
   "source": []
  },
  {
   "cell_type": "code",
   "execution_count": 38,
   "metadata": {
    "tags": [
     "solution"
    ]
   },
   "outputs": [],
   "source": [
    "# Solution\n",
    "# Add the state capitals of MD, OH, TX\n",
    "capital[\"MD\"] = \"Annapolis\"\n",
    "capital[\"OH\"] = \"Columbus\"\n",
    "capital[\"TX\"] = \"Austin\""
   ]
  },
  {
   "cell_type": "markdown",
   "metadata": {},
   "source": [
    "We can loop through the key-value pairs of a dictionary using the `.items()` method.\n",
    "\n",
    "For example, `capital.items()` is a list of the key-value pairs in the dictionary `capital`. So, we can loop through the key-value pairs like this:"
   ]
  },
  {
   "cell_type": "code",
   "execution_count": 39,
   "metadata": {},
   "outputs": [
    {
     "name": "stdout",
     "output_type": "stream",
     "text": [
      "The capital of CA is Sacramento.\n",
      "The capital of MI is Lansing.\n",
      "The capital of FL is Tallahassee.\n",
      "The capital of MD is Annapolis.\n",
      "The capital of OH is Columbus.\n",
      "The capital of TX is Austin.\n"
     ]
    }
   ],
   "source": [
    "# Loop through all the key-value pairs of the capital dictionary\n",
    "for state, city in capital.items():\n",
    "    print(f\"The capital of {state} is {city}.\")"
   ]
  },
  {
   "cell_type": "markdown",
   "metadata": {},
   "source": [
    "Use a `for` loop with the `.items()` method to print a statement about each key-value pair in the dictionary of state abbreviations defined below."
   ]
  },
  {
   "cell_type": "code",
   "execution_count": 40,
   "metadata": {},
   "outputs": [],
   "source": [
    "# Dictionary of state abbreviations\n",
    "abbreviation = {\"Oregon\": \"OR\", \"Florida\": \"FL\", \"California\": \"CA\", \"New York\": \"NY\", \"Michigan\": \"MI\"}"
   ]
  },
  {
   "cell_type": "code",
   "execution_count": null,
   "metadata": {},
   "outputs": [],
   "source": []
  },
  {
   "cell_type": "code",
   "execution_count": 41,
   "metadata": {
    "tags": [
     "solution"
    ]
   },
   "outputs": [
    {
     "name": "stdout",
     "output_type": "stream",
     "text": [
      "The abbreviation for Oregon is OR.\n",
      "The abbreviation for Florida is FL.\n",
      "The abbreviation for California is CA.\n",
      "The abbreviation for New York is NY.\n",
      "The abbreviation for Michigan is MI.\n"
     ]
    }
   ],
   "source": [
    "# Solution\n",
    "# Print a statement about each key-value pair in the dictionary of state abbreviations\n",
    "for state, abbrev in abbreviation.items():\n",
    "    print(f\"The abbreviation for {state} is {abbrev}.\")"
   ]
  }
 ],
 "metadata": {
  "kernelspec": {
   "display_name": "Python 3",
   "language": "python",
   "name": "python3"
  },
  "language_info": {
   "codemirror_mode": {
    "name": "ipython",
    "version": 3
   },
   "file_extension": ".py",
   "mimetype": "text/x-python",
   "name": "python",
   "nbconvert_exporter": "python",
   "pygments_lexer": "ipython3",
   "version": "3.8.10"
  }
 },
 "nbformat": 4,
 "nbformat_minor": 4
}
