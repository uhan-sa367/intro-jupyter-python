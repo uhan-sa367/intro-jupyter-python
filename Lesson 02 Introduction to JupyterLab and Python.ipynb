{
 "cells": [
  {
   "cell_type": "markdown",
   "metadata": {
    "hide_cell": true
   },
   "source": [
    "**SA367 &#x25aa; Mathematical Models for Decision Making &#x25aa; Spring 2022 &#x25aa; Uhan**"
   ]
  },
  {
   "cell_type": "markdown",
   "metadata": {
    "hide_cell": true
   },
   "source": [
    "# Lesson 2. An Introduction to JupyterLab and Python"
   ]
  },
  {
   "cell_type": "markdown",
   "metadata": {},
   "source": [
    "❗️ This notebook assumes that you're using JupyterLab 3.0+."
   ]
  },
  {
   "cell_type": "markdown",
   "metadata": {},
   "source": [
    "## What is Jupyter?"
   ]
  },
  {
   "cell_type": "markdown",
   "metadata": {},
   "source": [
    "* [__Jupyter__](https://jupyter.org/) is an interactive computational environment where you can combine code, text and graphs in __notebooks__\n",
    "\n",
    "\n",
    "* You're looking at a Jupyter notebook right now, in the [__JupyterLab__](https://jupyterlab.readthedocs.io/en/stable/) environment!\n",
    "\n",
    "\n",
    "* We'll be using Jupyter with the __Python__ programming langugage in this course to:\n",
    "    * set up data for various models from large-scale real-world sources, and\n",
    "    * solve these models and interpret their output"
   ]
  },
  {
   "cell_type": "markdown",
   "metadata": {},
   "source": [
    "## Structure of a notebook document"
   ]
  },
  {
   "cell_type": "markdown",
   "metadata": {},
   "source": [
    "* A notebook consists of a sequence of __cells__ of different types\n",
    "\n",
    "\n",
    "* We'll use these types of cells frequently:\n",
    "    * code cells\n",
    "    * Markdown cells\n",
    "\n",
    "\n",
    "* You can determine the type of a cell in the toolbar\n",
    "\n",
    "\n",
    "* You can run a cell by:\n",
    "    * clicking the <kbd>&#9654;</kbd> button in the toolbar\n",
    "    * selecting __Run &#8594; Run Selected Cells__ in the menu bar\n",
    "    * pressing <kbd>Shift</kbd>-<kbd>Enter</kbd>"
   ]
  },
  {
   "cell_type": "markdown",
   "metadata": {},
   "source": [
    "### Code cells"
   ]
  },
  {
   "cell_type": "markdown",
   "metadata": {},
   "source": [
    "* In a __code cell__, you can edit and write Python code\n",
    "    * We'll talk about Python shortly\n",
    "\n",
    "\n",
    "* For now, we can use a code cell as a fancy calculator\n",
    "\n",
    "\n",
    "* For example, in the code cell below, let's compute\n",
    "$$ \\frac{2^{5} - 368}{23 + 18} $$"
   ]
  },
  {
   "cell_type": "code",
   "execution_count": null,
   "metadata": {},
   "outputs": [],
   "source": []
  },
  {
   "cell_type": "markdown",
   "metadata": {},
   "source": [
    "* Note that a code cell has \n",
    "    * an __input__ section containing your code\n",
    "    * an __output__ section after executing the cell"
   ]
  },
  {
   "cell_type": "markdown",
   "metadata": {},
   "source": [
    "### Markdown cells"
   ]
  },
  {
   "cell_type": "markdown",
   "metadata": {},
   "source": [
    "* In a __Markdown cell__, you can enter text to write notes about your code and document your workflow\n",
    "\n",
    "\n",
    "* For example, this cell is a Markdown cell\n",
    "\n",
    "\n",
    "* The __Markdown__ language is a popular way to provide formatting (e.g. bold, italics, lists) to plain text\n",
    "    * Use Google to find documentation and tutorials. [Here's a pretty good cheat sheet.](https://github.com/adam-p/markdown-here/wiki/Markdown-Cheatsheet)\n",
    "\n",
    "\n",
    "* For now, here are a few basic, useful Markdown constructs:\n",
    "\n",
    "```\n",
    "You can format text as italic with *asterisks* or _underscores_.\n",
    "\n",
    "You can format text as bold with **double asterisks** or __double underscores__.\n",
    "\n",
    "To write a bulleted list, use *, -, or + as bullets, like this:\n",
    "\n",
    "* One\n",
    "* Two\n",
    "* Three\n",
    "```\n",
    "\n",
    "\n",
    "* To edit a Markdown cell, double-click it\n",
    "\n",
    "\n",
    "* When you're done editing it, run the cell"
   ]
  },
  {
   "cell_type": "markdown",
   "metadata": {},
   "source": [
    "❓ __Example__. Try using some of the constructs above in the Markdown cell below."
   ]
  },
  {
   "cell_type": "markdown",
   "metadata": {},
   "source": [
    "*Double-click to edit this cell. Try out Markdown here.*"
   ]
  },
  {
   "cell_type": "markdown",
   "metadata": {},
   "source": [
    "## Manipulating cells"
   ]
  },
  {
   "cell_type": "markdown",
   "metadata": {},
   "source": [
    "* You can insert a new cell by clicking the <kbd>+</kbd> button in the toolbar\n",
    "\n",
    "\n",
    "* You can copy and paste cells using the __Edit__ menu\n",
    "\n",
    "\n",
    "* You can also split, merge, move, and delete cells using the __Edit__ menu\n",
    "\n",
    "\n",
    "* You can also move cells around with your mouse: click on the left part of a cell and drag it to where you want it"
   ]
  },
  {
   "cell_type": "markdown",
   "metadata": {
    "tags": []
   },
   "source": [
    "## Saving your notebook"
   ]
  },
  {
   "cell_type": "markdown",
   "metadata": {},
   "source": [
    "* Jupyter autosaves your notebook every few minutes\n",
    "    * Check __Settings &#8594; Autosave Documents__ to make sure this setting is turned on\n",
    "\n",
    "\n",
    "* To manually save, click the <kbd>&#128190;</kbd> icon, or select __File &#8594; Save Notebook__\n",
    "\n",
    "\n",
    "* When you're done, you can shut down Jupyter by selecting __File &#8594; Shut Down__"
   ]
  },
  {
   "cell_type": "markdown",
   "metadata": {},
   "source": [
    "## Moving on..."
   ]
  },
  {
   "cell_type": "markdown",
   "metadata": {},
   "source": [
    "* We'll go over some other features of Jupyter later\n",
    "\n",
    "\n",
    "* [The official documentation is here](https://jupyterlab.readthedocs.io/)\n",
    "\n",
    "\n",
    "* There are many resources out there on using Jupyter &mdash; Google is your friend!"
   ]
  },
  {
   "cell_type": "markdown",
   "metadata": {},
   "source": [
    "---"
   ]
  },
  {
   "cell_type": "markdown",
   "metadata": {},
   "source": [
    "## What is Python &mdash; and why?"
   ]
  },
  {
   "cell_type": "markdown",
   "metadata": {},
   "source": [
    "![https://xkcd.com/353/](img/python.png)"
   ]
  },
  {
   "cell_type": "markdown",
   "metadata": {},
   "source": [
    "* __Python__ is a *free*, open-source, general-purpose programming language\n",
    "\n",
    "\n",
    "* Python is popular and used everywhere &mdash; a few examples:\n",
    "    - [Automation, monitoring, data science, and more at Netflix](https://netflixtechblog.com/python-at-netflix-86b6028b3b3e)\n",
    "    - [Special effects at Industrial Light and Magic](https://www.davincicoders.com/codingblog/2017/2/10/love-movies-learn-to-code-python-and-you-might-work-for-ilm)\n",
    "    - [Analysis of historical texts](https://digitalorientalist.com/2019/07/01/making-a-basic-textual-analysis-program-in-python/)\n",
    "\n",
    "\n",
    "* Python is \"beautiful\": its syntax was designed with an emphasis on readability\n",
    "\n",
    "\n",
    "* Python has become the language of choice for data science and machine learning\n",
    "\n",
    "* _Side note._ Even if you're familiar with other programming languages, having exposure to multiple programming languages will be very useful to you as a {data scientist, operations researcher, quantitative analyst, statistician, economist, etc.}"
   ]
  },
  {
   "cell_type": "markdown",
   "metadata": {},
   "source": [
    "## A survival course in Python"
   ]
  },
  {
   "cell_type": "markdown",
   "metadata": {},
   "source": [
    "* In this lesson, we will learn some basic Python concepts that will be useful in this course\n",
    "\n",
    "* We will cover other concepts throughout the semester as needed\n",
    "    \n",
    "* There is a wealth of information on Python on the web!\n",
    "\n",
    "* [Here is the documentation for Python 3.9](https://docs.python.org/3.9/)"
   ]
  },
  {
   "cell_type": "markdown",
   "metadata": {
    "tags": []
   },
   "source": [
    "## Fancy calculator"
   ]
  },
  {
   "cell_type": "markdown",
   "metadata": {},
   "source": [
    "* You can define a variable using the `=` sign\n",
    "\n",
    "\n",
    "* You can perform arithmetic operations on variables\n",
    "\n",
    "\n",
    "* You can print the value of a variable using the `print()` function\n",
    "\n",
    "\n",
    "* For example, in the cell below, let's:\n",
    "    - define two variables representing the dimensions of a rectangle\n",
    "    - compute the area of this rectangle\n",
    "    - print the area of this rectangle\n",
    "\n",
    "\n",
    "* Don't forget to run the cell when you're done!    "
   ]
  },
  {
   "cell_type": "code",
   "execution_count": null,
   "metadata": {},
   "outputs": [],
   "source": []
  },
  {
   "cell_type": "markdown",
   "metadata": {},
   "source": [
    "* If you try to access a variable you haven't yet defined, Python will complain\n",
    "\n",
    "\n",
    "* For example, if we try to print the value of the variable `volume`:"
   ]
  },
  {
   "cell_type": "code",
   "execution_count": null,
   "metadata": {},
   "outputs": [],
   "source": [
    "print(volume)"
   ]
  },
  {
   "cell_type": "markdown",
   "metadata": {},
   "source": [
    "* Note that variable definitions are persistent across cells\n",
    "\n",
    "\n",
    "* For example, in the cell below, let's:\n",
    "    - define the height of a box\n",
    "    - compute the volume of this box, using the length and width we defined in the cell above\n",
    "    - print the volume of this box"
   ]
  },
  {
   "cell_type": "code",
   "execution_count": null,
   "metadata": {},
   "outputs": [],
   "source": []
  },
  {
   "cell_type": "markdown",
   "metadata": {},
   "source": [
    "* Note that the __prompt numbers__ next to the code cells (e.g. `[3]`) indicate which cells have been run and *in which order*\n",
    "\n",
    "\n",
    "* This is very useful, especially if you are running cells out-of-sequence"
   ]
  },
  {
   "cell_type": "markdown",
   "metadata": {},
   "source": [
    "## Hello, world!"
   ]
  },
  {
   "cell_type": "markdown",
   "metadata": {},
   "source": [
    "* __Strings__ are lists of printable characters defined using either double quotes or single quotes\n",
    "\n",
    "* Just like with variables, to print a string, you can use the `print()` function, like this:"
   ]
  },
  {
   "cell_type": "code",
   "execution_count": null,
   "metadata": {},
   "outputs": [],
   "source": []
  },
  {
   "cell_type": "markdown",
   "metadata": {},
   "source": [
    "* To insert a variable's value into a string:\n",
    "    - place the letter `f` immediately before the opening quotation mark\n",
    "    - put braces `{}` around the names of any variables you want to use inside the string\n",
    "\n",
    "\n",
    "* These strings are called __f-strings__\n",
    "\n",
    "\n",
    "* For example, in the cell below, let's:\n",
    "    - define a variable for your neighbor's name\n",
    "    - print a sentence containing your neighbor's name"
   ]
  },
  {
   "cell_type": "code",
   "execution_count": null,
   "metadata": {},
   "outputs": [],
   "source": []
  },
  {
   "cell_type": "markdown",
   "metadata": {
    "tags": []
   },
   "source": [
    "* More generally, f-strings can also be used to insert the value of a Python expression, like this:"
   ]
  },
  {
   "cell_type": "code",
   "execution_count": null,
   "metadata": {},
   "outputs": [],
   "source": [
    "print(f'Two plus two is equal to {2 + 2}.')"
   ]
  },
  {
   "cell_type": "markdown",
   "metadata": {},
   "source": [
    "<br>\n",
    "\n",
    "❓ __Example.__ Define three variables, `left`, `right`, `me`, containing the names of your neighbors and yourself. Use the `print()` function to print the values of these variables in one line."
   ]
  },
  {
   "cell_type": "code",
   "execution_count": null,
   "metadata": {},
   "outputs": [],
   "source": []
  },
  {
   "cell_type": "markdown",
   "metadata": {},
   "source": [
    "## Lists"
   ]
  },
  {
   "cell_type": "markdown",
   "metadata": {},
   "source": [
    "* A __list__ is a collection of items that are organized in a particular order\n",
    "\n",
    "* You can think of a list as an array or a vector\n",
    "\n",
    "* A list is written as a sequence of comma-separated items between square brackets, like this:"
   ]
  },
  {
   "cell_type": "code",
   "execution_count": null,
   "metadata": {},
   "outputs": [],
   "source": []
  },
  {
   "cell_type": "markdown",
   "metadata": {},
   "source": [
    "* To get the first item in `days_of_the_week`, we would write\n",
    "\n",
    "    ```python\n",
    "    days_of_the_week[0]\n",
    "    ```\n",
    "\n",
    "\n",
    "* __In Python, indexing (that is, counting) starts at 0!__\n",
    "\n",
    "\n",
    "* So, we can get the third day of the week, like this:"
   ]
  },
  {
   "cell_type": "code",
   "execution_count": null,
   "metadata": {},
   "outputs": [],
   "source": []
  },
  {
   "cell_type": "markdown",
   "metadata": {},
   "source": [
    "* We can add items to the end of a list using the `.append()` method\n",
    "\n",
    "\n",
    "* We can also print lists just like any other variable\n",
    "\n",
    "\n",
    "* Let's add the 6th squared number to the list `squares`:"
   ]
  },
  {
   "cell_type": "code",
   "execution_count": null,
   "metadata": {},
   "outputs": [],
   "source": []
  },
  {
   "cell_type": "markdown",
   "metadata": {},
   "source": [
    "* Let's check our work by printing the list:"
   ]
  },
  {
   "cell_type": "code",
   "execution_count": null,
   "metadata": {
    "tags": []
   },
   "outputs": [],
   "source": []
  },
  {
   "cell_type": "markdown",
   "metadata": {},
   "source": [
    "* We can determine the length of a list using the `len()` function\n",
    "\n",
    "\n",
    "* For example, we can get the length of the list `days_of_the_week`, like this:"
   ]
  },
  {
   "cell_type": "code",
   "execution_count": null,
   "metadata": {},
   "outputs": [],
   "source": []
  },
  {
   "cell_type": "markdown",
   "metadata": {},
   "source": [
    "## Dictionaries"
   ]
  },
  {
   "cell_type": "markdown",
   "metadata": {
    "tags": []
   },
   "source": [
    "* A __dictionary__ is another way to organize a collection of items\n",
    "\n",
    "\n",
    "* A dictionary maps __keys__ to __values__\n",
    "    - Just like a real-world dictionary maps *words* to *definitions*\n",
    "\n",
    "\n",
    "* We can create a dictionary by starting with an empty dictionary and adding key-value pairs, like this:"
   ]
  },
  {
   "cell_type": "code",
   "execution_count": null,
   "metadata": {},
   "outputs": [],
   "source": []
  },
  {
   "cell_type": "markdown",
   "metadata": {},
   "source": [
    "* You can also print dictionaries just like any other variable"
   ]
  },
  {
   "cell_type": "code",
   "execution_count": null,
   "metadata": {},
   "outputs": [],
   "source": []
  },
  {
   "cell_type": "markdown",
   "metadata": {},
   "source": [
    "* We can also create a dictionary by specifying the key-value pairs directly between braces `{}`:"
   ]
  },
  {
   "cell_type": "code",
   "execution_count": null,
   "metadata": {},
   "outputs": [],
   "source": []
  },
  {
   "cell_type": "markdown",
   "metadata": {},
   "source": [
    "* Similar to a list, we can use a key to look up the corresponding value in a dictionary, like this:"
   ]
  },
  {
   "cell_type": "code",
   "execution_count": null,
   "metadata": {},
   "outputs": [],
   "source": []
  },
  {
   "cell_type": "markdown",
   "metadata": {},
   "source": [
    "## Loops and nesting"
   ]
  },
  {
   "cell_type": "markdown",
   "metadata": {},
   "source": [
    "* We can iterate through lists using a `for` statement\n",
    "\n",
    "\n",
    "* For example, consider the following list, containing strings representing the months of the year:"
   ]
  },
  {
   "cell_type": "code",
   "execution_count": null,
   "metadata": {},
   "outputs": [],
   "source": [
    "months_of_the_year = [\"Jan\", \"Feb\", \"Mar\", \"Apr\", \"May\", \"Jun\", \"Jul\", \"Aug\", \"Sep\", \"Nov\", \"Dec\"]"
   ]
  },
  {
   "cell_type": "markdown",
   "metadata": {},
   "source": [
    "* We can print each string in this list, like this: "
   ]
  },
  {
   "cell_type": "code",
   "execution_count": null,
   "metadata": {},
   "outputs": [],
   "source": []
  },
  {
   "cell_type": "markdown",
   "metadata": {},
   "source": [
    "* Python defines blocks of code using a __colon `:`__ followed by __indentation__\n",
    "\n",
    "\n",
    "* The code we wrote above is NOT the same as\n",
    "\n",
    "    ```python\n",
    "    for month in months_of_the_year:\n",
    "    print(month)\n",
    "    ```\n",
    "\n",
    "\n",
    "* Always use the __Tab__ key to indent &mdash; this will keep your indentation consistent"
   ]
  },
  {
   "cell_type": "markdown",
   "metadata": {},
   "source": [
    "* Often we will want to write a for loop over consecutive integers\n",
    "\n",
    "\n",
    "* We can do this using the `range()` function\n",
    "\n",
    "\n",
    "* `range(n)` is equivalent to to the list `[0, 1, ..., n - 1]`\n",
    "\n",
    "\n",
    "* `range(start, stop)` is equivalent to the list `[start, start + 1, ..., stop - 1]`\n",
    "\n",
    "\n",
    "* For example, we can print the first 10 integers, starting at 0, like this:"
   ]
  },
  {
   "cell_type": "code",
   "execution_count": null,
   "metadata": {},
   "outputs": [],
   "source": []
  },
  {
   "cell_type": "markdown",
   "metadata": {},
   "source": [
    "- We can print the integers between 3 and 8 inclusive, like this:"
   ]
  },
  {
   "cell_type": "code",
   "execution_count": null,
   "metadata": {},
   "outputs": [],
   "source": []
  },
  {
   "cell_type": "markdown",
   "metadata": {},
   "source": [
    "* *Technically*, `range(n)` and `range(start, stop)` aren't really lists. But it's OK to think of them as lists for now."
   ]
  },
  {
   "cell_type": "markdown",
   "metadata": {},
   "source": [
    "❓ __Example.__ Write code to create a list of the first 10 cubic numbers, starting with $0^3$. Print the list.\n",
    "\n",
    "*Hint*. Start by creating an empty list:\n",
    "\n",
    "```python\n",
    "cubics = []\n",
    "```\n",
    "\n",
    "Then *append* to this list using a `for` loop."
   ]
  },
  {
   "cell_type": "code",
   "execution_count": null,
   "metadata": {},
   "outputs": [],
   "source": []
  },
  {
   "cell_type": "markdown",
   "metadata": {
    "tags": []
   },
   "source": [
    "## If this, then that"
   ]
  },
  {
   "cell_type": "markdown",
   "metadata": {},
   "source": [
    "* The `==` operator performs __equality testing__: \n",
    "    - If the two items on either side of `==` are equal, then it returns `True`\n",
    "    - Otherwise, it returns `False`\n",
    "\n",
    "\n",
    "* For example, let's define the variable `today` to be the string `'Tuesday'`:    "
   ]
  },
  {
   "cell_type": "code",
   "execution_count": null,
   "metadata": {},
   "outputs": [],
   "source": [
    "today = 'Tuesday'"
   ]
  },
  {
   "cell_type": "markdown",
   "metadata": {},
   "source": [
    "* We can check if the variable `today` is equal to `'Tuesday'`, like this:"
   ]
  },
  {
   "cell_type": "code",
   "execution_count": null,
   "metadata": {},
   "outputs": [],
   "source": []
  },
  {
   "cell_type": "markdown",
   "metadata": {},
   "source": [
    "* Let's see what happens when we check if the variable `today` is equal to `'Friday'`:"
   ]
  },
  {
   "cell_type": "code",
   "execution_count": null,
   "metadata": {},
   "outputs": [],
   "source": []
  },
  {
   "cell_type": "markdown",
   "metadata": {},
   "source": [
    "* Conditional statements are written using the same block/indentation structure as `for` statements, using the keywords `if`, `elif`, and `else`\n",
    "\n",
    "\n",
    "* For example, let's write some conditional statements that tell us what to do, based on the day of the week:"
   ]
  },
  {
   "cell_type": "code",
   "execution_count": null,
   "metadata": {},
   "outputs": [],
   "source": []
  },
  {
   "cell_type": "markdown",
   "metadata": {
    "tags": []
   },
   "source": [
    "* Other types of comparisons:\n",
    "\n",
    "| Comparison | Meaning |\n",
    "| :----------- | :-------- |\n",
    "| `==`         | equal  |\n",
    "| `!=`         | not equal |\n",
    "| `<`          | less than  |\n",
    "| `>`          | greater than |\n",
    "| `<=`         | less than or equal |\n",
    "| `>=`         | greater than or equal |"
   ]
  },
  {
   "cell_type": "markdown",
   "metadata": {},
   "source": [
    "❓ __Example.__ Using `if`-`elif`-`else` statements, write code to only print the first 10 cubic numbers ($0^3$, $1^3$, $2^3$, $3^3$, ...) that are greater than 100. Your output should look something like this:\n",
    "\n",
    "```\n",
    "    The cube of 5 is 125.\n",
    "    The cube of 6 is 216.\n",
    "```\n",
    "\n",
    "and so on."
   ]
  },
  {
   "cell_type": "code",
   "execution_count": null,
   "metadata": {},
   "outputs": [],
   "source": []
  },
  {
   "cell_type": "markdown",
   "metadata": {},
   "source": [
    "---"
   ]
  },
  {
   "cell_type": "markdown",
   "metadata": {},
   "source": [
    "## Useful JupyterLab features"
   ]
  },
  {
   "cell_type": "markdown",
   "metadata": {},
   "source": [
    "### Line numbers"
   ]
  },
  {
   "cell_type": "markdown",
   "metadata": {},
   "source": [
    "* Put line numbers in code cells by selecting __View &#8594; Show Line Numbers__"
   ]
  },
  {
   "cell_type": "markdown",
   "metadata": {},
   "source": [
    "### Indenting multiple lines"
   ]
  },
  {
   "cell_type": "markdown",
   "metadata": {},
   "source": [
    "* Highlight the lines you want to indent, and then press <kbd>Tab</kbd>\n",
    "\n",
    "\n",
    "* If you want to de-indent them (i.e., indent them to the left), press <kbd>Shift</kbd>+<kbd>Tab</kbd>"
   ]
  },
  {
   "cell_type": "code",
   "execution_count": null,
   "metadata": {},
   "outputs": [],
   "source": [
    "# Play around with indenting and de-indenting code.\n",
    "# Read the code in this cell. Make sure you understand what it does!\n",
    "student_names = ['Amy', 'Bob', 'Carol']\n",
    "for name in student_names:\n",
    "    print(f'The name of this student is {name}.')\n",
    "\n",
    "english_words = ['home', 'navy']\n",
    "spanish = {'home': 'casa', 'navy': 'armada', 'blue': 'azul'}\n",
    "\n",
    "for word in english_words:\n",
    "    print(f\"The Spanish word for {word} is {spanish[word]}.\")"
   ]
  },
  {
   "cell_type": "markdown",
   "metadata": {},
   "source": [
    "### Running multiple cells"
   ]
  },
  {
   "cell_type": "markdown",
   "metadata": {},
   "source": [
    "* You can run all the cells in a notebook by selecting __Run &#8594; Run All Cells__\n",
    "\n",
    "\n",
    "* You can run all the cells above the current cell by selecting __Run &#8594; Run All Above Selected Cell__\n",
    "\n",
    "\n",
    "* You can run the current cell and all below by selecting __Run &#8594; Run Selected Cell and All Below__"
   ]
  },
  {
   "cell_type": "markdown",
   "metadata": {},
   "source": [
    "### Clearing the output of code cells"
   ]
  },
  {
   "cell_type": "markdown",
   "metadata": {},
   "source": [
    "* You can clear the output of a code cell by selecting __Edit &#8594; Clear Output__\n",
    "\n",
    "\n",
    "* You can clear the output of all code cells by selecting __Edit &#8594; Clear All Outputs__"
   ]
  },
  {
   "cell_type": "markdown",
   "metadata": {},
   "source": [
    "---"
   ]
  },
  {
   "cell_type": "markdown",
   "metadata": {},
   "source": [
    "## Problems"
   ]
  },
  {
   "cell_type": "markdown",
   "metadata": {},
   "source": [
    "### Problem 1 (Building lists)"
   ]
  },
  {
   "cell_type": "markdown",
   "metadata": {},
   "source": [
    "The goal of this problem is to give you practice with building lists.\n",
    "\n",
    "Recall that $x$ degrees Celsius is\n",
    "\n",
    "$$\\frac{9}{5} x + 32$$\n",
    "\n",
    "degrees Fahrenheit. Using a `for` loop, create a list with the temperatures in degrees Celsius given below, converted to degrees Fahrenheit. Print the list of converted temperatures."
   ]
  },
  {
   "cell_type": "code",
   "execution_count": null,
   "metadata": {},
   "outputs": [],
   "source": [
    "# List of temperatures to convert\n",
    "celsius = [39.2, 33.3, 36.5, 31.6, 37.3, 37.8, 42.1, 28.6]"
   ]
  },
  {
   "cell_type": "code",
   "execution_count": null,
   "metadata": {},
   "outputs": [],
   "source": []
  },
  {
   "cell_type": "markdown",
   "metadata": {},
   "source": [
    "### Problem 2  (List methods, reading and using documentation)"
   ]
  },
  {
   "cell_type": "markdown",
   "metadata": {},
   "source": [
    "The goal of this problem is to introduce you to different list methods, and to give you some practice with reading and using documentation.\n",
    "\n",
    "Read the Python documentation on list methods found in Section 5.1 [here](https://docs.python.org/3.9/tutorial/datastructures.html). Use these methods to do the following with the list of student names given below.\n",
    "\n",
    "* Find the index of first student named Zelda in the list.\n",
    "* Insert your name in the 3rd position of the list. Print the list to check your work.\n",
    "* Sort the list in alphabetical order. Print the list to check your work.\n",
    "* Find how many students named Junior are in the list.\n",
    "* Remove Leo from the list. Print the list to check your work."
   ]
  },
  {
   "cell_type": "code",
   "execution_count": null,
   "metadata": {},
   "outputs": [],
   "source": [
    "# List of student names, generated courtesy of http://listofrandomnames.com\n",
    "students = [\"Sterling\", \"Malika\", \"Junior\", \"Shiloh\", \"Zelda\", \"Helene\", \"Leo\", \"Junior\", \"Jacinto\", \"Craig\"]"
   ]
  },
  {
   "cell_type": "code",
   "execution_count": null,
   "metadata": {},
   "outputs": [],
   "source": []
  },
  {
   "cell_type": "markdown",
   "metadata": {},
   "source": [
    "### Problem 3 (Working with dictionaries)"
   ]
  },
  {
   "cell_type": "markdown",
   "metadata": {},
   "source": [
    "The goal of this problem is to introduce you to a few more ways to work with dictionaries.\n",
    "\n",
    "In class, we saw that we can build a dictionary by specifying its key-value pairs in between curly brackets `{ }`,  like this:"
   ]
  },
  {
   "cell_type": "code",
   "execution_count": null,
   "metadata": {},
   "outputs": [],
   "source": [
    "# Initial dictionary of state capitals\n",
    "capital = {\"CA\": \"Sacramento\", \"MI\": \"Lansing\", \"FL\": \"Tallahassee\"}"
   ]
  },
  {
   "cell_type": "markdown",
   "metadata": {},
   "source": [
    "Run the cell above, and add the state capitals of Maryland, Ohio, and Texas to this dictionary. Don't forget the quotation marks!"
   ]
  },
  {
   "cell_type": "code",
   "execution_count": null,
   "metadata": {},
   "outputs": [],
   "source": []
  },
  {
   "cell_type": "markdown",
   "metadata": {},
   "source": [
    "We can loop through the key-value pairs of a dictionary using the `.items()` method.\n",
    "\n",
    "For example, `capital.items()` is a list of the key-value pairs in the dictionary `capital`. So, we can loop through the key-value pairs like this:"
   ]
  },
  {
   "cell_type": "code",
   "execution_count": null,
   "metadata": {},
   "outputs": [],
   "source": [
    "# Loop through all the key-value pairs of the capital dictionary\n",
    "for state, city in capital.items():\n",
    "    print(f\"The capital of {state} is {city}.\")"
   ]
  },
  {
   "cell_type": "markdown",
   "metadata": {},
   "source": [
    "Use a `for` loop with the `.items()` method to print a statement about each key-value pair in the dictionary of state abbreviations defined below."
   ]
  },
  {
   "cell_type": "code",
   "execution_count": null,
   "metadata": {},
   "outputs": [],
   "source": [
    "# Dictionary of state abbreviations\n",
    "abbreviation = {\"Oregon\": \"OR\", \"Florida\": \"FL\", \"California\": \"CA\", \"New York\": \"NY\", \"Michigan\": \"MI\"}"
   ]
  },
  {
   "cell_type": "code",
   "execution_count": null,
   "metadata": {},
   "outputs": [],
   "source": []
  }
 ],
 "metadata": {
  "kernelspec": {
   "display_name": "Python 3",
   "language": "python",
   "name": "python3"
  },
  "language_info": {
   "codemirror_mode": {
    "name": "ipython",
    "version": 3
   },
   "file_extension": ".py",
   "mimetype": "text/x-python",
   "name": "python",
   "nbconvert_exporter": "python",
   "pygments_lexer": "ipython3",
   "version": "3.8.10"
  }
 },
 "nbformat": 4,
 "nbformat_minor": 4
}
